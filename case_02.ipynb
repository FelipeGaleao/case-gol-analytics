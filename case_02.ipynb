{
 "metadata": {
  "language_info": {
   "codemirror_mode": {
    "name": "ipython",
    "version": 3
   },
   "file_extension": ".py",
   "mimetype": "text/x-python",
   "name": "python",
   "nbconvert_exporter": "python",
   "pygments_lexer": "ipython3",
   "version": "3.8.5"
  },
  "orig_nbformat": 4,
  "kernelspec": {
   "name": "python3",
   "display_name": "Python 3.8.5 64-bit ('base': conda)"
  },
  "interpreter": {
   "hash": "80df4573815e2fbc1434c8f9d7234411ca19ec91ea5669cedcae75f03f5659be"
  }
 },
 "nbformat": 4,
 "nbformat_minor": 2,
 "cells": [
  {
   "source": [
    "\n",
    "<div style=\"margin-left: 10px\">\n",
    "<h1>Gol Linhas Aéreas Inteligentes - Case 02</h1>\n",
    "Processo seletivo - Desenvolvedor (E)<br>\n",
    "<b>Candidato:</b> Maycon Felipe da Silva Mota <br>\n",
    "<b>Email:</b> mayconfelipemotamw3@gmail.com<br>\n",
    "\n",
    "\n",
    "---\n",
    "\n",
    "\n",
    "\n"
   ],
   "cell_type": "markdown",
   "metadata": {}
  },
  {
   "source": [
    "# Importando bibliotecas que usarei no CASE 02"
   ],
   "cell_type": "markdown",
   "metadata": {}
  },
  {
   "cell_type": "code",
   "execution_count": 1,
   "metadata": {},
   "outputs": [],
   "source": [
    "import pandas as pd \n",
    "import numpy as np \n",
    "import seaborn as sns\n",
    "import dataframe_image as dfi"
   ]
  },
  {
   "source": [
    "<p> Para a realização do case 02 irei importar o conjunto de dados disponibilizados pela ANAC que se refere aos microdados estatísticos referente ao transporte aéreo em Maio de 2021 enviado pelas companhias áereas a Agência Nacional de Aviação Cívil </p>"
   ],
   "cell_type": "markdown",
   "metadata": {}
  },
  {
   "cell_type": "code",
   "execution_count": 2,
   "metadata": {},
   "outputs": [
    {
     "output_type": "stream",
     "name": "stderr",
     "text": [
      "C:\\Users\\mayco\\anaconda3\\lib\\site-packages\\IPython\\core\\interactiveshell.py:3146: DtypeWarning: Columns (8,10) have mixed types.Specify dtype option on import or set low_memory=False.\n  has_raised = await self.run_ast_nodes(code_ast.body, cell_name,\n"
     ]
    },
    {
     "output_type": "execute_result",
     "data": {
      "text/plain": [
       "id_basica            int64\n",
       "id_empresa           int64\n",
       "sg_empresa_icao     object\n",
       "sg_empresa_iata     object\n",
       "nm_empresa          object\n",
       "                    ...   \n",
       "nr_rtk               int64\n",
       "id_arquivo           int64\n",
       "nm_arquivo          object\n",
       "nr_linha           float64\n",
       "dt_sistema          object\n",
       "Length: 110, dtype: object"
      ]
     },
     "metadata": {},
     "execution_count": 2
    }
   ],
   "source": [
    "# Realizar leitura do dataset básica disponível pela ANAC em https://www.gov.br/anac/pt-br/assuntos/regulados/empresas-aereas/envio-de-informacoes/microdados/microdados\n",
    "\n",
    "df_case02 = pd.read_csv('./input/basica2021-05.txt', error_bad_lines=False, encoding='latin', sep=';')\n",
    "\n",
    "# Verificar os tipos dos campos \n",
    "df_case02.dtypes"
   ]
  },
  {
   "cell_type": "code",
   "execution_count": 3,
   "metadata": {},
   "outputs": [
    {
     "output_type": "execute_result",
     "data": {
      "text/plain": [
       "                             count          mean           std         min  \\\n",
       "id_basica                  36100.0  2.157449e+07  1.044343e+04  21556193.0   \n",
       "id_empresa                 36100.0  1.000936e+06  3.023686e+02   1000002.0   \n",
       "nr_voo                     36100.0  4.159456e+03  1.837294e+03        11.0   \n",
       "id_di                      36100.0  2.399391e+00  1.628709e+00         2.0   \n",
       "nr_ano_referencia          36100.0  2.021000e+03  0.000000e+00      2021.0   \n",
       "nr_semestre_referencia     36100.0  1.000000e+00  0.000000e+00         1.0   \n",
       "nr_trimestre_referencia    36100.0  2.000000e+00  0.000000e+00         2.0   \n",
       "nr_mes_referencia          36100.0  5.000000e+00  0.000000e+00         5.0   \n",
       "nr_semana_referencia       36100.0  2.067039e+01  1.297244e+00        18.0   \n",
       "nr_dia_referencia          36100.0  1.658958e+01  8.839623e+00         1.0   \n",
       "nr_ano_mes_referencia      36100.0  2.021050e+05  0.000000e+00    202105.0   \n",
       "id_tipo_linha              36100.0  9.982825e-01  5.149875e-01         0.0   \n",
       "nr_ano_partida_real        36100.0  2.021000e+03  0.000000e+00      2021.0   \n",
       "nr_semestre_partida_real   36100.0  1.000000e+00  0.000000e+00         1.0   \n",
       "nr_trimestre_partida_real  36100.0  2.000000e+00  0.000000e+00         2.0   \n",
       "nr_mes_partida_real        36100.0  5.000332e+00  2.232752e-02         4.0   \n",
       "nr_semana_partida_real     36100.0  2.067238e+01  1.297365e+00        18.0   \n",
       "nr_dia_partida_real        36100.0  1.659557e+01  8.839269e+00         1.0   \n",
       "nr_ano_mes_partida_real    36100.0  2.021050e+05  2.232752e-02    202104.0   \n",
       "id_aerodromo_origem        36100.0  5.573086e+02  1.690043e+03         1.0   \n",
       "nr_etapa                   36100.0  1.074958e+00  3.378798e-01         1.0   \n",
       "nr_ano_chegada_real        36099.0  2.021000e+03  0.000000e+00      2021.0   \n",
       "nr_semestre_chegada_real   36099.0  1.000000e+00  0.000000e+00         1.0   \n",
       "nr_trimestre_chegada_real  36099.0  2.000000e+00  0.000000e+00         2.0   \n",
       "nr_mes_chegada_real        36099.0  5.003574e+00  5.967273e-02         5.0   \n",
       "nr_semana_chegada_real     36099.0  2.068628e+01  1.295629e+00        18.0   \n",
       "nr_dia_chegada_real        36099.0  1.659650e+01  8.843347e+00         1.0   \n",
       "nr_ano_mes_chegada_real    36099.0  2.021050e+05  5.967273e-02    202105.0   \n",
       "id_equipamento             36100.0  2.061002e+02  1.951714e+02         5.0   \n",
       "id_aerodromo_destino       36100.0  5.598016e+02  1.703600e+03         1.0   \n",
       "nr_escala_destino              0.0           NaN           NaN         NaN   \n",
       "lt_combustivel             36100.0  4.840496e+03  7.584977e+03         0.0   \n",
       "nr_assentos_ofertados      36100.0  1.416720e+02  7.222836e+01         0.0   \n",
       "kg_payload                 36100.0  2.040435e+04  1.706992e+04         0.0   \n",
       "km_distancia               36100.0  1.543563e+03  2.035418e+03         0.0   \n",
       "nr_passag_pagos            36100.0  1.066604e+02  5.892433e+01         0.0   \n",
       "nr_passag_gratis           36100.0  2.612825e+00  3.419583e+00         0.0   \n",
       "kg_bagagem_livre           36100.0  6.316227e+02  5.290116e+02         0.0   \n",
       "kg_bagagem_excesso         36100.0  1.299562e+01  2.579348e+01         0.0   \n",
       "kg_carga_paga              36100.0  3.634506e+03  1.183644e+04         0.0   \n",
       "kg_carga_gratis            36100.0  1.597410e+01  9.986982e+01         0.0   \n",
       "kg_correio                 36100.0  1.865680e+02  1.342465e+03         0.0   \n",
       "nr_decolagem               36100.0  9.979224e-01  4.553354e-02         0.0   \n",
       "kg_peso                    36100.0  1.274575e+04  1.113539e+04         0.0   \n",
       "nr_pax_gratis_km           36100.0  3.449034e+03  1.119979e+04         0.0   \n",
       "nr_carga_paga_km           36100.0  1.942904e+07  7.901612e+07         0.0   \n",
       "nr_carga_gratis_km         36100.0  3.488502e+04  4.133892e+05         0.0   \n",
       "nr_correio_km              36100.0  3.250681e+05  2.494234e+06         0.0   \n",
       "nr_bagagem_paga_km         36100.0  1.471909e+04  4.910776e+04         0.0   \n",
       "nr_bagagem_gratis_km       36100.0  8.685774e+05  2.329333e+06         0.0   \n",
       "nr_ask                     36100.0  2.617207e+05  5.538138e+05         0.0   \n",
       "nr_rpk                     36100.0  1.489648e+05  2.049910e+05         0.0   \n",
       "nr_atk                     36100.0  5.560976e+04  1.388060e+05         0.0   \n",
       "nr_rtk                     36100.0  3.229015e+04  8.437043e+04         0.0   \n",
       "id_arquivo                 36100.0  1.720369e+04  2.057518e+01     17123.0   \n",
       "nr_linha                   33049.0  1.427745e+04  1.079337e+04         1.0   \n",
       "\n",
       "                                   25%         50%          75%          max  \n",
       "id_basica                  21565465.75  21574490.5  21583515.25   21592668.0  \n",
       "id_empresa                  1000854.00   1000909.0   1001093.00    1007354.0  \n",
       "nr_voo                         3364.00      4285.0      4643.00       9998.0  \n",
       "id_di                             2.00         2.0         2.00         16.0  \n",
       "nr_ano_referencia              2021.00      2021.0      2021.00       2021.0  \n",
       "nr_semestre_referencia            1.00         1.0         1.00          1.0  \n",
       "nr_trimestre_referencia           2.00         2.0         2.00          2.0  \n",
       "nr_mes_referencia                 5.00         5.0         5.00          5.0  \n",
       "nr_semana_referencia             20.00        21.0        22.00         23.0  \n",
       "nr_dia_referencia                 9.00        17.0        24.00         31.0  \n",
       "nr_ano_mes_referencia        202105.00    202105.0    202105.00     202105.0  \n",
       "id_tipo_linha                     1.00         1.0         1.00          4.0  \n",
       "nr_ano_partida_real            2021.00      2021.0      2021.00       2021.0  \n",
       "nr_semestre_partida_real          1.00         1.0         1.00          1.0  \n",
       "nr_trimestre_partida_real         2.00         2.0         2.00          2.0  \n",
       "nr_mes_partida_real               5.00         5.0         5.00          6.0  \n",
       "nr_semana_partida_real           20.00        21.0        22.00         23.0  \n",
       "nr_dia_partida_real               9.00        17.0        24.00         31.0  \n",
       "nr_ano_mes_partida_real      202105.00    202105.0    202105.00     202106.0  \n",
       "id_aerodromo_origem             218.00       301.0       628.00      21250.0  \n",
       "nr_etapa                          1.00         1.0         1.00          6.0  \n",
       "nr_ano_chegada_real            2021.00      2021.0      2021.00       2021.0  \n",
       "nr_semestre_chegada_real          1.00         1.0         1.00          1.0  \n",
       "nr_trimestre_chegada_real         2.00         2.0         2.00          2.0  \n",
       "nr_mes_chegada_real               5.00         5.0         5.00          6.0  \n",
       "nr_semana_chegada_real           20.00        21.0        22.00         23.0  \n",
       "nr_dia_chegada_real               9.00        17.0        24.00         31.0  \n",
       "nr_ano_mes_chegada_real      202105.00    202105.0    202105.00     202106.0  \n",
       "id_equipamento                   69.00       101.0       272.00        578.0  \n",
       "id_aerodromo_destino            218.00       301.0       628.00      21250.0  \n",
       "nr_escala_destino                  NaN         NaN          NaN          NaN  \n",
       "lt_combustivel                 2025.50      3352.0      5938.00     118816.0  \n",
       "nr_assentos_ofertados           118.00       165.0       186.00        410.0  \n",
       "kg_payload                    12167.75     17903.0     19800.00     150000.0  \n",
       "km_distancia                    457.00       855.0      1722.00      12265.0  \n",
       "nr_passag_pagos                  64.00       115.0       156.00        297.0  \n",
       "nr_passag_gratis                  0.00         2.0         4.00        140.0  \n",
       "kg_bagagem_livre                284.00       577.0       889.00       9034.0  \n",
       "kg_bagagem_excesso                0.00         0.0        17.00        271.0  \n",
       "kg_carga_paga                    17.00       245.0      1102.00     126290.0  \n",
       "kg_carga_gratis                   0.00         0.0         0.00       5675.0  \n",
       "kg_correio                        0.00         0.0         0.00      20425.0  \n",
       "nr_decolagem                      1.00         1.0         1.00          1.0  \n",
       "kg_peso                        7631.00     11142.0     14361.00     126290.0  \n",
       "nr_pax_gratis_km                  0.00      1098.0      3308.00    1075760.0  \n",
       "nr_carga_paga_km               9150.00    168110.0   1245830.00  979846000.0  \n",
       "nr_carga_gratis_km                0.00         0.0         0.00   27395200.0  \n",
       "nr_correio_km                     0.00         0.0         0.00   86355000.0  \n",
       "nr_bagagem_paga_km                0.00         0.0      8449.00    1628250.0  \n",
       "nr_bagagem_gratis_km         111832.00    360680.0    945584.25   58838400.0  \n",
       "nr_ask                        46138.00    107284.5    264792.00    4324820.0  \n",
       "nr_rpk                        31102.50     79792.5    196509.00    2872050.0  \n",
       "nr_atk                         6127.00     14497.0     33501.00    1230060.0  \n",
       "nr_rtk                         3660.75      8682.5     21510.75     979846.0  \n",
       "id_arquivo                    17193.00     17205.0     17221.00      17246.0  \n",
       "nr_linha                       5014.00     12984.0     20985.00      39994.0  "
      ],
      "text/html": "<div>\n<style scoped>\n    .dataframe tbody tr th:only-of-type {\n        vertical-align: middle;\n    }\n\n    .dataframe tbody tr th {\n        vertical-align: top;\n    }\n\n    .dataframe thead th {\n        text-align: right;\n    }\n</style>\n<table border=\"1\" class=\"dataframe\">\n  <thead>\n    <tr style=\"text-align: right;\">\n      <th></th>\n      <th>count</th>\n      <th>mean</th>\n      <th>std</th>\n      <th>min</th>\n      <th>25%</th>\n      <th>50%</th>\n      <th>75%</th>\n      <th>max</th>\n    </tr>\n  </thead>\n  <tbody>\n    <tr>\n      <th>id_basica</th>\n      <td>36100.0</td>\n      <td>2.157449e+07</td>\n      <td>1.044343e+04</td>\n      <td>21556193.0</td>\n      <td>21565465.75</td>\n      <td>21574490.5</td>\n      <td>21583515.25</td>\n      <td>21592668.0</td>\n    </tr>\n    <tr>\n      <th>id_empresa</th>\n      <td>36100.0</td>\n      <td>1.000936e+06</td>\n      <td>3.023686e+02</td>\n      <td>1000002.0</td>\n      <td>1000854.00</td>\n      <td>1000909.0</td>\n      <td>1001093.00</td>\n      <td>1007354.0</td>\n    </tr>\n    <tr>\n      <th>nr_voo</th>\n      <td>36100.0</td>\n      <td>4.159456e+03</td>\n      <td>1.837294e+03</td>\n      <td>11.0</td>\n      <td>3364.00</td>\n      <td>4285.0</td>\n      <td>4643.00</td>\n      <td>9998.0</td>\n    </tr>\n    <tr>\n      <th>id_di</th>\n      <td>36100.0</td>\n      <td>2.399391e+00</td>\n      <td>1.628709e+00</td>\n      <td>2.0</td>\n      <td>2.00</td>\n      <td>2.0</td>\n      <td>2.00</td>\n      <td>16.0</td>\n    </tr>\n    <tr>\n      <th>nr_ano_referencia</th>\n      <td>36100.0</td>\n      <td>2.021000e+03</td>\n      <td>0.000000e+00</td>\n      <td>2021.0</td>\n      <td>2021.00</td>\n      <td>2021.0</td>\n      <td>2021.00</td>\n      <td>2021.0</td>\n    </tr>\n    <tr>\n      <th>nr_semestre_referencia</th>\n      <td>36100.0</td>\n      <td>1.000000e+00</td>\n      <td>0.000000e+00</td>\n      <td>1.0</td>\n      <td>1.00</td>\n      <td>1.0</td>\n      <td>1.00</td>\n      <td>1.0</td>\n    </tr>\n    <tr>\n      <th>nr_trimestre_referencia</th>\n      <td>36100.0</td>\n      <td>2.000000e+00</td>\n      <td>0.000000e+00</td>\n      <td>2.0</td>\n      <td>2.00</td>\n      <td>2.0</td>\n      <td>2.00</td>\n      <td>2.0</td>\n    </tr>\n    <tr>\n      <th>nr_mes_referencia</th>\n      <td>36100.0</td>\n      <td>5.000000e+00</td>\n      <td>0.000000e+00</td>\n      <td>5.0</td>\n      <td>5.00</td>\n      <td>5.0</td>\n      <td>5.00</td>\n      <td>5.0</td>\n    </tr>\n    <tr>\n      <th>nr_semana_referencia</th>\n      <td>36100.0</td>\n      <td>2.067039e+01</td>\n      <td>1.297244e+00</td>\n      <td>18.0</td>\n      <td>20.00</td>\n      <td>21.0</td>\n      <td>22.00</td>\n      <td>23.0</td>\n    </tr>\n    <tr>\n      <th>nr_dia_referencia</th>\n      <td>36100.0</td>\n      <td>1.658958e+01</td>\n      <td>8.839623e+00</td>\n      <td>1.0</td>\n      <td>9.00</td>\n      <td>17.0</td>\n      <td>24.00</td>\n      <td>31.0</td>\n    </tr>\n    <tr>\n      <th>nr_ano_mes_referencia</th>\n      <td>36100.0</td>\n      <td>2.021050e+05</td>\n      <td>0.000000e+00</td>\n      <td>202105.0</td>\n      <td>202105.00</td>\n      <td>202105.0</td>\n      <td>202105.00</td>\n      <td>202105.0</td>\n    </tr>\n    <tr>\n      <th>id_tipo_linha</th>\n      <td>36100.0</td>\n      <td>9.982825e-01</td>\n      <td>5.149875e-01</td>\n      <td>0.0</td>\n      <td>1.00</td>\n      <td>1.0</td>\n      <td>1.00</td>\n      <td>4.0</td>\n    </tr>\n    <tr>\n      <th>nr_ano_partida_real</th>\n      <td>36100.0</td>\n      <td>2.021000e+03</td>\n      <td>0.000000e+00</td>\n      <td>2021.0</td>\n      <td>2021.00</td>\n      <td>2021.0</td>\n      <td>2021.00</td>\n      <td>2021.0</td>\n    </tr>\n    <tr>\n      <th>nr_semestre_partida_real</th>\n      <td>36100.0</td>\n      <td>1.000000e+00</td>\n      <td>0.000000e+00</td>\n      <td>1.0</td>\n      <td>1.00</td>\n      <td>1.0</td>\n      <td>1.00</td>\n      <td>1.0</td>\n    </tr>\n    <tr>\n      <th>nr_trimestre_partida_real</th>\n      <td>36100.0</td>\n      <td>2.000000e+00</td>\n      <td>0.000000e+00</td>\n      <td>2.0</td>\n      <td>2.00</td>\n      <td>2.0</td>\n      <td>2.00</td>\n      <td>2.0</td>\n    </tr>\n    <tr>\n      <th>nr_mes_partida_real</th>\n      <td>36100.0</td>\n      <td>5.000332e+00</td>\n      <td>2.232752e-02</td>\n      <td>4.0</td>\n      <td>5.00</td>\n      <td>5.0</td>\n      <td>5.00</td>\n      <td>6.0</td>\n    </tr>\n    <tr>\n      <th>nr_semana_partida_real</th>\n      <td>36100.0</td>\n      <td>2.067238e+01</td>\n      <td>1.297365e+00</td>\n      <td>18.0</td>\n      <td>20.00</td>\n      <td>21.0</td>\n      <td>22.00</td>\n      <td>23.0</td>\n    </tr>\n    <tr>\n      <th>nr_dia_partida_real</th>\n      <td>36100.0</td>\n      <td>1.659557e+01</td>\n      <td>8.839269e+00</td>\n      <td>1.0</td>\n      <td>9.00</td>\n      <td>17.0</td>\n      <td>24.00</td>\n      <td>31.0</td>\n    </tr>\n    <tr>\n      <th>nr_ano_mes_partida_real</th>\n      <td>36100.0</td>\n      <td>2.021050e+05</td>\n      <td>2.232752e-02</td>\n      <td>202104.0</td>\n      <td>202105.00</td>\n      <td>202105.0</td>\n      <td>202105.00</td>\n      <td>202106.0</td>\n    </tr>\n    <tr>\n      <th>id_aerodromo_origem</th>\n      <td>36100.0</td>\n      <td>5.573086e+02</td>\n      <td>1.690043e+03</td>\n      <td>1.0</td>\n      <td>218.00</td>\n      <td>301.0</td>\n      <td>628.00</td>\n      <td>21250.0</td>\n    </tr>\n    <tr>\n      <th>nr_etapa</th>\n      <td>36100.0</td>\n      <td>1.074958e+00</td>\n      <td>3.378798e-01</td>\n      <td>1.0</td>\n      <td>1.00</td>\n      <td>1.0</td>\n      <td>1.00</td>\n      <td>6.0</td>\n    </tr>\n    <tr>\n      <th>nr_ano_chegada_real</th>\n      <td>36099.0</td>\n      <td>2.021000e+03</td>\n      <td>0.000000e+00</td>\n      <td>2021.0</td>\n      <td>2021.00</td>\n      <td>2021.0</td>\n      <td>2021.00</td>\n      <td>2021.0</td>\n    </tr>\n    <tr>\n      <th>nr_semestre_chegada_real</th>\n      <td>36099.0</td>\n      <td>1.000000e+00</td>\n      <td>0.000000e+00</td>\n      <td>1.0</td>\n      <td>1.00</td>\n      <td>1.0</td>\n      <td>1.00</td>\n      <td>1.0</td>\n    </tr>\n    <tr>\n      <th>nr_trimestre_chegada_real</th>\n      <td>36099.0</td>\n      <td>2.000000e+00</td>\n      <td>0.000000e+00</td>\n      <td>2.0</td>\n      <td>2.00</td>\n      <td>2.0</td>\n      <td>2.00</td>\n      <td>2.0</td>\n    </tr>\n    <tr>\n      <th>nr_mes_chegada_real</th>\n      <td>36099.0</td>\n      <td>5.003574e+00</td>\n      <td>5.967273e-02</td>\n      <td>5.0</td>\n      <td>5.00</td>\n      <td>5.0</td>\n      <td>5.00</td>\n      <td>6.0</td>\n    </tr>\n    <tr>\n      <th>nr_semana_chegada_real</th>\n      <td>36099.0</td>\n      <td>2.068628e+01</td>\n      <td>1.295629e+00</td>\n      <td>18.0</td>\n      <td>20.00</td>\n      <td>21.0</td>\n      <td>22.00</td>\n      <td>23.0</td>\n    </tr>\n    <tr>\n      <th>nr_dia_chegada_real</th>\n      <td>36099.0</td>\n      <td>1.659650e+01</td>\n      <td>8.843347e+00</td>\n      <td>1.0</td>\n      <td>9.00</td>\n      <td>17.0</td>\n      <td>24.00</td>\n      <td>31.0</td>\n    </tr>\n    <tr>\n      <th>nr_ano_mes_chegada_real</th>\n      <td>36099.0</td>\n      <td>2.021050e+05</td>\n      <td>5.967273e-02</td>\n      <td>202105.0</td>\n      <td>202105.00</td>\n      <td>202105.0</td>\n      <td>202105.00</td>\n      <td>202106.0</td>\n    </tr>\n    <tr>\n      <th>id_equipamento</th>\n      <td>36100.0</td>\n      <td>2.061002e+02</td>\n      <td>1.951714e+02</td>\n      <td>5.0</td>\n      <td>69.00</td>\n      <td>101.0</td>\n      <td>272.00</td>\n      <td>578.0</td>\n    </tr>\n    <tr>\n      <th>id_aerodromo_destino</th>\n      <td>36100.0</td>\n      <td>5.598016e+02</td>\n      <td>1.703600e+03</td>\n      <td>1.0</td>\n      <td>218.00</td>\n      <td>301.0</td>\n      <td>628.00</td>\n      <td>21250.0</td>\n    </tr>\n    <tr>\n      <th>nr_escala_destino</th>\n      <td>0.0</td>\n      <td>NaN</td>\n      <td>NaN</td>\n      <td>NaN</td>\n      <td>NaN</td>\n      <td>NaN</td>\n      <td>NaN</td>\n      <td>NaN</td>\n    </tr>\n    <tr>\n      <th>lt_combustivel</th>\n      <td>36100.0</td>\n      <td>4.840496e+03</td>\n      <td>7.584977e+03</td>\n      <td>0.0</td>\n      <td>2025.50</td>\n      <td>3352.0</td>\n      <td>5938.00</td>\n      <td>118816.0</td>\n    </tr>\n    <tr>\n      <th>nr_assentos_ofertados</th>\n      <td>36100.0</td>\n      <td>1.416720e+02</td>\n      <td>7.222836e+01</td>\n      <td>0.0</td>\n      <td>118.00</td>\n      <td>165.0</td>\n      <td>186.00</td>\n      <td>410.0</td>\n    </tr>\n    <tr>\n      <th>kg_payload</th>\n      <td>36100.0</td>\n      <td>2.040435e+04</td>\n      <td>1.706992e+04</td>\n      <td>0.0</td>\n      <td>12167.75</td>\n      <td>17903.0</td>\n      <td>19800.00</td>\n      <td>150000.0</td>\n    </tr>\n    <tr>\n      <th>km_distancia</th>\n      <td>36100.0</td>\n      <td>1.543563e+03</td>\n      <td>2.035418e+03</td>\n      <td>0.0</td>\n      <td>457.00</td>\n      <td>855.0</td>\n      <td>1722.00</td>\n      <td>12265.0</td>\n    </tr>\n    <tr>\n      <th>nr_passag_pagos</th>\n      <td>36100.0</td>\n      <td>1.066604e+02</td>\n      <td>5.892433e+01</td>\n      <td>0.0</td>\n      <td>64.00</td>\n      <td>115.0</td>\n      <td>156.00</td>\n      <td>297.0</td>\n    </tr>\n    <tr>\n      <th>nr_passag_gratis</th>\n      <td>36100.0</td>\n      <td>2.612825e+00</td>\n      <td>3.419583e+00</td>\n      <td>0.0</td>\n      <td>0.00</td>\n      <td>2.0</td>\n      <td>4.00</td>\n      <td>140.0</td>\n    </tr>\n    <tr>\n      <th>kg_bagagem_livre</th>\n      <td>36100.0</td>\n      <td>6.316227e+02</td>\n      <td>5.290116e+02</td>\n      <td>0.0</td>\n      <td>284.00</td>\n      <td>577.0</td>\n      <td>889.00</td>\n      <td>9034.0</td>\n    </tr>\n    <tr>\n      <th>kg_bagagem_excesso</th>\n      <td>36100.0</td>\n      <td>1.299562e+01</td>\n      <td>2.579348e+01</td>\n      <td>0.0</td>\n      <td>0.00</td>\n      <td>0.0</td>\n      <td>17.00</td>\n      <td>271.0</td>\n    </tr>\n    <tr>\n      <th>kg_carga_paga</th>\n      <td>36100.0</td>\n      <td>3.634506e+03</td>\n      <td>1.183644e+04</td>\n      <td>0.0</td>\n      <td>17.00</td>\n      <td>245.0</td>\n      <td>1102.00</td>\n      <td>126290.0</td>\n    </tr>\n    <tr>\n      <th>kg_carga_gratis</th>\n      <td>36100.0</td>\n      <td>1.597410e+01</td>\n      <td>9.986982e+01</td>\n      <td>0.0</td>\n      <td>0.00</td>\n      <td>0.0</td>\n      <td>0.00</td>\n      <td>5675.0</td>\n    </tr>\n    <tr>\n      <th>kg_correio</th>\n      <td>36100.0</td>\n      <td>1.865680e+02</td>\n      <td>1.342465e+03</td>\n      <td>0.0</td>\n      <td>0.00</td>\n      <td>0.0</td>\n      <td>0.00</td>\n      <td>20425.0</td>\n    </tr>\n    <tr>\n      <th>nr_decolagem</th>\n      <td>36100.0</td>\n      <td>9.979224e-01</td>\n      <td>4.553354e-02</td>\n      <td>0.0</td>\n      <td>1.00</td>\n      <td>1.0</td>\n      <td>1.00</td>\n      <td>1.0</td>\n    </tr>\n    <tr>\n      <th>kg_peso</th>\n      <td>36100.0</td>\n      <td>1.274575e+04</td>\n      <td>1.113539e+04</td>\n      <td>0.0</td>\n      <td>7631.00</td>\n      <td>11142.0</td>\n      <td>14361.00</td>\n      <td>126290.0</td>\n    </tr>\n    <tr>\n      <th>nr_pax_gratis_km</th>\n      <td>36100.0</td>\n      <td>3.449034e+03</td>\n      <td>1.119979e+04</td>\n      <td>0.0</td>\n      <td>0.00</td>\n      <td>1098.0</td>\n      <td>3308.00</td>\n      <td>1075760.0</td>\n    </tr>\n    <tr>\n      <th>nr_carga_paga_km</th>\n      <td>36100.0</td>\n      <td>1.942904e+07</td>\n      <td>7.901612e+07</td>\n      <td>0.0</td>\n      <td>9150.00</td>\n      <td>168110.0</td>\n      <td>1245830.00</td>\n      <td>979846000.0</td>\n    </tr>\n    <tr>\n      <th>nr_carga_gratis_km</th>\n      <td>36100.0</td>\n      <td>3.488502e+04</td>\n      <td>4.133892e+05</td>\n      <td>0.0</td>\n      <td>0.00</td>\n      <td>0.0</td>\n      <td>0.00</td>\n      <td>27395200.0</td>\n    </tr>\n    <tr>\n      <th>nr_correio_km</th>\n      <td>36100.0</td>\n      <td>3.250681e+05</td>\n      <td>2.494234e+06</td>\n      <td>0.0</td>\n      <td>0.00</td>\n      <td>0.0</td>\n      <td>0.00</td>\n      <td>86355000.0</td>\n    </tr>\n    <tr>\n      <th>nr_bagagem_paga_km</th>\n      <td>36100.0</td>\n      <td>1.471909e+04</td>\n      <td>4.910776e+04</td>\n      <td>0.0</td>\n      <td>0.00</td>\n      <td>0.0</td>\n      <td>8449.00</td>\n      <td>1628250.0</td>\n    </tr>\n    <tr>\n      <th>nr_bagagem_gratis_km</th>\n      <td>36100.0</td>\n      <td>8.685774e+05</td>\n      <td>2.329333e+06</td>\n      <td>0.0</td>\n      <td>111832.00</td>\n      <td>360680.0</td>\n      <td>945584.25</td>\n      <td>58838400.0</td>\n    </tr>\n    <tr>\n      <th>nr_ask</th>\n      <td>36100.0</td>\n      <td>2.617207e+05</td>\n      <td>5.538138e+05</td>\n      <td>0.0</td>\n      <td>46138.00</td>\n      <td>107284.5</td>\n      <td>264792.00</td>\n      <td>4324820.0</td>\n    </tr>\n    <tr>\n      <th>nr_rpk</th>\n      <td>36100.0</td>\n      <td>1.489648e+05</td>\n      <td>2.049910e+05</td>\n      <td>0.0</td>\n      <td>31102.50</td>\n      <td>79792.5</td>\n      <td>196509.00</td>\n      <td>2872050.0</td>\n    </tr>\n    <tr>\n      <th>nr_atk</th>\n      <td>36100.0</td>\n      <td>5.560976e+04</td>\n      <td>1.388060e+05</td>\n      <td>0.0</td>\n      <td>6127.00</td>\n      <td>14497.0</td>\n      <td>33501.00</td>\n      <td>1230060.0</td>\n    </tr>\n    <tr>\n      <th>nr_rtk</th>\n      <td>36100.0</td>\n      <td>3.229015e+04</td>\n      <td>8.437043e+04</td>\n      <td>0.0</td>\n      <td>3660.75</td>\n      <td>8682.5</td>\n      <td>21510.75</td>\n      <td>979846.0</td>\n    </tr>\n    <tr>\n      <th>id_arquivo</th>\n      <td>36100.0</td>\n      <td>1.720369e+04</td>\n      <td>2.057518e+01</td>\n      <td>17123.0</td>\n      <td>17193.00</td>\n      <td>17205.0</td>\n      <td>17221.00</td>\n      <td>17246.0</td>\n    </tr>\n    <tr>\n      <th>nr_linha</th>\n      <td>33049.0</td>\n      <td>1.427745e+04</td>\n      <td>1.079337e+04</td>\n      <td>1.0</td>\n      <td>5014.00</td>\n      <td>12984.0</td>\n      <td>20985.00</td>\n      <td>39994.0</td>\n    </tr>\n  </tbody>\n</table>\n</div>"
     },
     "metadata": {},
     "execution_count": 3
    }
   ],
   "source": [
    "# Analisando como está a distribuição das variáveis númericas do conjunto de dados\n",
    "\n",
    "df_case02.describe().transpose()"
   ]
  },
  {
   "source": [
    "<p> Para a realização do case 02 irei importar o conjunto de dados disponibilizados pela ANAC que se refere aos microdados estatísticos referente ao transporte aéreo em Maio de 2021 enviado pelas companhias áereas a Agência Nacional de Aviação Cívil </p>"
   ],
   "cell_type": "markdown",
   "metadata": {}
  },
  {
   "cell_type": "code",
   "execution_count": 4,
   "metadata": {},
   "outputs": [
    {
     "output_type": "execute_result",
     "data": {
      "text/plain": [
       "                                                    Quantidade de voos\n",
       "nm_empresa                                                            \n",
       "AZUL LINHAS AÉREAS BRASILEIRAS S/A                               14943\n",
       "TAM LINHAS AÉREAS S.A.                                            8144\n",
       "GOL LINHAS AÉREAS S.A. (EX- VRG LINHAS AÉREAS S...                6892\n",
       "SIDERAL LINHAS AÉREAS LTDA.                                        709\n",
       "PASSAREDO TRANSPORTES AÉREOS S.A.                                  616\n",
       "...                                                                ...\n",
       "ETIHAD AIRWAYS P.J.S.C.                                              3\n",
       "AIRES - AEROVÍAS DE INTEGRACÍON REGIONAL S.A.                        2\n",
       "SURINAM AIRWAYS LTD                                                  2\n",
       "AMERICAN JET S.A.                                                    2\n",
       "AEROVIAS DEL CONTINENTE AMERICANO S.A. AVIANCA                       2\n",
       "\n",
       "[65 rows x 1 columns]"
      ],
      "text/html": "<div>\n<style scoped>\n    .dataframe tbody tr th:only-of-type {\n        vertical-align: middle;\n    }\n\n    .dataframe tbody tr th {\n        vertical-align: top;\n    }\n\n    .dataframe thead th {\n        text-align: right;\n    }\n</style>\n<table border=\"1\" class=\"dataframe\">\n  <thead>\n    <tr style=\"text-align: right;\">\n      <th></th>\n      <th>Quantidade de voos</th>\n    </tr>\n    <tr>\n      <th>nm_empresa</th>\n      <th></th>\n    </tr>\n  </thead>\n  <tbody>\n    <tr>\n      <th>AZUL LINHAS AÉREAS BRASILEIRAS S/A</th>\n      <td>14943</td>\n    </tr>\n    <tr>\n      <th>TAM LINHAS AÉREAS S.A.</th>\n      <td>8144</td>\n    </tr>\n    <tr>\n      <th>GOL LINHAS AÉREAS S.A. (EX- VRG LINHAS AÉREAS S.A.)</th>\n      <td>6892</td>\n    </tr>\n    <tr>\n      <th>SIDERAL LINHAS AÉREAS LTDA.</th>\n      <td>709</td>\n    </tr>\n    <tr>\n      <th>PASSAREDO TRANSPORTES AÉREOS S.A.</th>\n      <td>616</td>\n    </tr>\n    <tr>\n      <th>...</th>\n      <td>...</td>\n    </tr>\n    <tr>\n      <th>ETIHAD AIRWAYS P.J.S.C.</th>\n      <td>3</td>\n    </tr>\n    <tr>\n      <th>AIRES - AEROVÍAS DE INTEGRACÍON REGIONAL S.A.</th>\n      <td>2</td>\n    </tr>\n    <tr>\n      <th>SURINAM AIRWAYS LTD</th>\n      <td>2</td>\n    </tr>\n    <tr>\n      <th>AMERICAN JET S.A.</th>\n      <td>2</td>\n    </tr>\n    <tr>\n      <th>AEROVIAS DEL CONTINENTE AMERICANO S.A. AVIANCA</th>\n      <td>2</td>\n    </tr>\n  </tbody>\n</table>\n<p>65 rows × 1 columns</p>\n</div>"
     },
     "metadata": {},
     "execution_count": 4
    }
   ],
   "source": [
    "# Agrupar por empresa aérea agregando pela quantidade de voos realizados (id_basica)\n",
    "qtd_voos = df_case02.groupby(by = 'nm_empresa')[['id_basica']].agg(['count'])\n",
    "qtd_voos.columns = ['Quantidade de voos'] # renomear a coluna\n",
    "qtd_voos = qtd_voos.sort_values(by = 'Quantidade de voos', ascending=False) # ordenação pelo maior valor ao menor \n",
    "qtd_voos.to_csv('./output/qtd_voos_empresa_aerea.csv') # exportar em um CSV\n",
    "qtd_voos # exibir o dataframe "
   ]
  },
  {
   "source": [
    "<p>Em Maio, a retomada da aviação foi liderada pela Azul Linhas Aéreas, com mais de 14.943 voos realizados, seguida pela LATAM Linhas Aéreas e em terceiro: a Gol Linhas Aéreas.</p>"
   ],
   "cell_type": "markdown",
   "metadata": {}
  },
  {
   "cell_type": "code",
   "execution_count": 25,
   "metadata": {},
   "outputs": [
    {
     "output_type": "execute_result",
     "data": {
      "text/plain": [
       "                                                   nr_rpk              \\\n",
       "                                                    count         sum   \n",
       "nm_empresa                                                              \n",
       "AZUL LINHAS AÉREAS BRASILEIRAS S/A                  14943  1531705713   \n",
       "GOL LINHAS AÉREAS S.A. (EX- VRG LINHAS AÉREAS S...   6892  1219640321   \n",
       "TAM LINHAS AÉREAS S.A.                               8144  1445463066   \n",
       "\n",
       "                                                                  nr_ask  \\\n",
       "                                                             mean  count   \n",
       "nm_empresa                                                                 \n",
       "AZUL LINHAS AÉREAS BRASILEIRAS S/A                  102503.226461  14943   \n",
       "GOL LINHAS AÉREAS S.A. (EX- VRG LINHAS AÉREAS S...  176964.643210   6892   \n",
       "TAM LINHAS AÉREAS S.A.                              177488.097495   8144   \n",
       "\n",
       "                                                                               \n",
       "                                                           sum           mean  \n",
       "nm_empresa                                                                     \n",
       "AZUL LINHAS AÉREAS BRASILEIRAS S/A                  2020426449  135208.890383  \n",
       "GOL LINHAS AÉREAS S.A. (EX- VRG LINHAS AÉREAS S...  1385225282  200990.319501  \n",
       "TAM LINHAS AÉREAS S.A.                              2029668313  249222.533522  "
      ],
      "text/html": "<div>\n<style scoped>\n    .dataframe tbody tr th:only-of-type {\n        vertical-align: middle;\n    }\n\n    .dataframe tbody tr th {\n        vertical-align: top;\n    }\n\n    .dataframe thead tr th {\n        text-align: left;\n    }\n\n    .dataframe thead tr:last-of-type th {\n        text-align: right;\n    }\n</style>\n<table border=\"1\" class=\"dataframe\">\n  <thead>\n    <tr>\n      <th></th>\n      <th colspan=\"3\" halign=\"left\">nr_rpk</th>\n      <th colspan=\"3\" halign=\"left\">nr_ask</th>\n    </tr>\n    <tr>\n      <th></th>\n      <th>count</th>\n      <th>sum</th>\n      <th>mean</th>\n      <th>count</th>\n      <th>sum</th>\n      <th>mean</th>\n    </tr>\n    <tr>\n      <th>nm_empresa</th>\n      <th></th>\n      <th></th>\n      <th></th>\n      <th></th>\n      <th></th>\n      <th></th>\n    </tr>\n  </thead>\n  <tbody>\n    <tr>\n      <th>AZUL LINHAS AÉREAS BRASILEIRAS S/A</th>\n      <td>14943</td>\n      <td>1531705713</td>\n      <td>102503.226461</td>\n      <td>14943</td>\n      <td>2020426449</td>\n      <td>135208.890383</td>\n    </tr>\n    <tr>\n      <th>GOL LINHAS AÉREAS S.A. (EX- VRG LINHAS AÉREAS S.A.)</th>\n      <td>6892</td>\n      <td>1219640321</td>\n      <td>176964.643210</td>\n      <td>6892</td>\n      <td>1385225282</td>\n      <td>200990.319501</td>\n    </tr>\n    <tr>\n      <th>TAM LINHAS AÉREAS S.A.</th>\n      <td>8144</td>\n      <td>1445463066</td>\n      <td>177488.097495</td>\n      <td>8144</td>\n      <td>2029668313</td>\n      <td>249222.533522</td>\n    </tr>\n  </tbody>\n</table>\n</div>"
     },
     "metadata": {},
     "execution_count": 25
    }
   ],
   "source": [
    "# Agrupar pelo nome da empresa, agregando pela quantidade, média e soma dos indicadores RPK e ASK\n",
    "\n",
    "qtd_voos = df_case02.query('nm_empresa == \"AZUL LINHAS AÉREAS BRASILEIRAS S/A\" | nm_empresa == \"GOL LINHAS AÉREAS S.A. (EX- VRG LINHAS AÉREAS S.A.)\" | nm_empresa == \"TAM LINHAS AÉREAS S.A.\"').groupby(by = 'nm_empresa')[['nr_rpk', 'nr_ask']].agg(['count', 'sum', 'mean'])\n",
    "# qtd_voos.columns = ['Quantidade de voos']\n",
    "# qtd_voos = qtd_voos.sort_values(by = 'Quantidade de voos', ascending=False)\n",
    "\n",
    "qtd_voos.sort_values(by = [('nr_rpk', 'sum')], ascending=False) ## ordenação pelo maior valor ao menor \n",
    "qtd_voos.query('nm_empresa == \"AZUL LINHAS AÉREAS BRASILEIRAS S/A\" | nm_empresa == \"GOL LINHAS AÉREAS S.A. (EX- VRG LINHAS AÉREAS S.A.)\" | nm_empresa == \"TAM LINHAS AÉREAS S.A.\"').to_csv('./output/nrrpk_nrask_por_empresa_aerea.csv') ## Filtrar apenas entre GOL,\n",
    "qtd_voos.to_csv('./output/soma_media_nrrpk_nrask_azul_gol.csv') # exportar em um CSV\n",
    "\n",
    "qtd_voos # Exibir o dataframe\n",
    " "
   ]
  },
  {
   "source": [
    "<p>Analisando os indicadores que referem a demanda do transporte aéreo estabelecidos pela OACI como RPK - métrica que deve mostrar o número de quilômetros percorridos pelos passageiros pagantes, feito pela multiplicação da quantidade de passageiros pela distância total percorrida e ASK - Assentos disponíveis por quilômetros, apesar da Azul ter um maior número de RPK e ASK tendo em vista que seus vôos internacionais, como por exemplo para o continente americano e Europa, o que fez com que a soma dos valores de RPK e ASK as mantivesse a Azul em primeiro lugar, a os valores pela média acabam reposicionando a Gol Linhas Aéreas em segunda posição.</p>"
   ],
   "cell_type": "markdown",
   "metadata": {}
  },
  {
   "source": [
    "<p> Abaixo, iremos analisar como foi o comportamento envolvendo o TOP 15 voos da Azul Linhas Aéreas em relação a Gol Linhas Aéreas</p>"
   ],
   "cell_type": "markdown",
   "metadata": {}
  },
  {
   "cell_type": "code",
   "execution_count": 6,
   "metadata": {},
   "outputs": [
    {
     "output_type": "execute_result",
     "data": {
      "text/plain": [
       "                            nm_empresa sg_iata_origem   nm_municipio_origem  \\\n",
       "0   AZUL LINHAS AÉREAS BRASILEIRAS S/A            CNF               CONFINS   \n",
       "1   AZUL LINHAS AÉREAS BRASILEIRAS S/A            VCP              CAMPINAS   \n",
       "2   AZUL LINHAS AÉREAS BRASILEIRAS S/A            POA          PORTO ALEGRE   \n",
       "3   AZUL LINHAS AÉREAS BRASILEIRAS S/A            VCP              CAMPINAS   \n",
       "4   AZUL LINHAS AÉREAS BRASILEIRAS S/A            VCP              CAMPINAS   \n",
       "5   AZUL LINHAS AÉREAS BRASILEIRAS S/A            SDU        RIO DE JANEIRO   \n",
       "6   AZUL LINHAS AÉREAS BRASILEIRAS S/A            SDU        RIO DE JANEIRO   \n",
       "7   AZUL LINHAS AÉREAS BRASILEIRAS S/A            CGH             SÃO PAULO   \n",
       "8   AZUL LINHAS AÉREAS BRASILEIRAS S/A            VCP              CAMPINAS   \n",
       "10  AZUL LINHAS AÉREAS BRASILEIRAS S/A            CWB  SÃO JOSÉ DOS PINHAIS   \n",
       "12  AZUL LINHAS AÉREAS BRASILEIRAS S/A            SDU        RIO DE JANEIRO   \n",
       "13  AZUL LINHAS AÉREAS BRASILEIRAS S/A            CNF               CONFINS   \n",
       "14  AZUL LINHAS AÉREAS BRASILEIRAS S/A            VCP              CAMPINAS   \n",
       "15  AZUL LINHAS AÉREAS BRASILEIRAS S/A            BSB              BRASÍLIA   \n",
       "16  AZUL LINHAS AÉREAS BRASILEIRAS S/A            MAO                MANAUS   \n",
       "\n",
       "   sg_iata_destino  nm_municipio_destino  Quantidade de Voos  \n",
       "0              VCP              CAMPINAS                 224  \n",
       "1              CNF               CONFINS                 219  \n",
       "2              VCP              CAMPINAS                 216  \n",
       "3              POA          PORTO ALEGRE                 215  \n",
       "4              SDU        RIO DE JANEIRO                 209  \n",
       "5              VCP              CAMPINAS                 206  \n",
       "6              CGH             SÃO PAULO                 185  \n",
       "7              SDU        RIO DE JANEIRO                 183  \n",
       "8              CWB  SÃO JOSÉ DOS PINHAIS                 168  \n",
       "10             VCP              CAMPINAS                 168  \n",
       "12             CNF               CONFINS                 157  \n",
       "13             SDU        RIO DE JANEIRO                 155  \n",
       "14             BSB              BRASÍLIA                 150  \n",
       "15             VCP              CAMPINAS                 148  \n",
       "16             VCP              CAMPINAS                 146  "
      ],
      "text/html": "<div>\n<style scoped>\n    .dataframe tbody tr th:only-of-type {\n        vertical-align: middle;\n    }\n\n    .dataframe tbody tr th {\n        vertical-align: top;\n    }\n\n    .dataframe thead th {\n        text-align: right;\n    }\n</style>\n<table border=\"1\" class=\"dataframe\">\n  <thead>\n    <tr style=\"text-align: right;\">\n      <th></th>\n      <th>nm_empresa</th>\n      <th>sg_iata_origem</th>\n      <th>nm_municipio_origem</th>\n      <th>sg_iata_destino</th>\n      <th>nm_municipio_destino</th>\n      <th>Quantidade de Voos</th>\n    </tr>\n  </thead>\n  <tbody>\n    <tr>\n      <th>0</th>\n      <td>AZUL LINHAS AÉREAS BRASILEIRAS S/A</td>\n      <td>CNF</td>\n      <td>CONFINS</td>\n      <td>VCP</td>\n      <td>CAMPINAS</td>\n      <td>224</td>\n    </tr>\n    <tr>\n      <th>1</th>\n      <td>AZUL LINHAS AÉREAS BRASILEIRAS S/A</td>\n      <td>VCP</td>\n      <td>CAMPINAS</td>\n      <td>CNF</td>\n      <td>CONFINS</td>\n      <td>219</td>\n    </tr>\n    <tr>\n      <th>2</th>\n      <td>AZUL LINHAS AÉREAS BRASILEIRAS S/A</td>\n      <td>POA</td>\n      <td>PORTO ALEGRE</td>\n      <td>VCP</td>\n      <td>CAMPINAS</td>\n      <td>216</td>\n    </tr>\n    <tr>\n      <th>3</th>\n      <td>AZUL LINHAS AÉREAS BRASILEIRAS S/A</td>\n      <td>VCP</td>\n      <td>CAMPINAS</td>\n      <td>POA</td>\n      <td>PORTO ALEGRE</td>\n      <td>215</td>\n    </tr>\n    <tr>\n      <th>4</th>\n      <td>AZUL LINHAS AÉREAS BRASILEIRAS S/A</td>\n      <td>VCP</td>\n      <td>CAMPINAS</td>\n      <td>SDU</td>\n      <td>RIO DE JANEIRO</td>\n      <td>209</td>\n    </tr>\n    <tr>\n      <th>5</th>\n      <td>AZUL LINHAS AÉREAS BRASILEIRAS S/A</td>\n      <td>SDU</td>\n      <td>RIO DE JANEIRO</td>\n      <td>VCP</td>\n      <td>CAMPINAS</td>\n      <td>206</td>\n    </tr>\n    <tr>\n      <th>6</th>\n      <td>AZUL LINHAS AÉREAS BRASILEIRAS S/A</td>\n      <td>SDU</td>\n      <td>RIO DE JANEIRO</td>\n      <td>CGH</td>\n      <td>SÃO PAULO</td>\n      <td>185</td>\n    </tr>\n    <tr>\n      <th>7</th>\n      <td>AZUL LINHAS AÉREAS BRASILEIRAS S/A</td>\n      <td>CGH</td>\n      <td>SÃO PAULO</td>\n      <td>SDU</td>\n      <td>RIO DE JANEIRO</td>\n      <td>183</td>\n    </tr>\n    <tr>\n      <th>8</th>\n      <td>AZUL LINHAS AÉREAS BRASILEIRAS S/A</td>\n      <td>VCP</td>\n      <td>CAMPINAS</td>\n      <td>CWB</td>\n      <td>SÃO JOSÉ DOS PINHAIS</td>\n      <td>168</td>\n    </tr>\n    <tr>\n      <th>10</th>\n      <td>AZUL LINHAS AÉREAS BRASILEIRAS S/A</td>\n      <td>CWB</td>\n      <td>SÃO JOSÉ DOS PINHAIS</td>\n      <td>VCP</td>\n      <td>CAMPINAS</td>\n      <td>168</td>\n    </tr>\n    <tr>\n      <th>12</th>\n      <td>AZUL LINHAS AÉREAS BRASILEIRAS S/A</td>\n      <td>SDU</td>\n      <td>RIO DE JANEIRO</td>\n      <td>CNF</td>\n      <td>CONFINS</td>\n      <td>157</td>\n    </tr>\n    <tr>\n      <th>13</th>\n      <td>AZUL LINHAS AÉREAS BRASILEIRAS S/A</td>\n      <td>CNF</td>\n      <td>CONFINS</td>\n      <td>SDU</td>\n      <td>RIO DE JANEIRO</td>\n      <td>155</td>\n    </tr>\n    <tr>\n      <th>14</th>\n      <td>AZUL LINHAS AÉREAS BRASILEIRAS S/A</td>\n      <td>VCP</td>\n      <td>CAMPINAS</td>\n      <td>BSB</td>\n      <td>BRASÍLIA</td>\n      <td>150</td>\n    </tr>\n    <tr>\n      <th>15</th>\n      <td>AZUL LINHAS AÉREAS BRASILEIRAS S/A</td>\n      <td>BSB</td>\n      <td>BRASÍLIA</td>\n      <td>VCP</td>\n      <td>CAMPINAS</td>\n      <td>148</td>\n    </tr>\n    <tr>\n      <th>16</th>\n      <td>AZUL LINHAS AÉREAS BRASILEIRAS S/A</td>\n      <td>MAO</td>\n      <td>MANAUS</td>\n      <td>VCP</td>\n      <td>CAMPINAS</td>\n      <td>146</td>\n    </tr>\n  </tbody>\n</table>\n</div>"
     },
     "metadata": {},
     "execution_count": 6
    }
   ],
   "source": [
    "## Buscar apenas os voos da Azul e GOL \r\n",
    "qtd_voos_origem_destino = df_case02[(df_case02['nm_empresa'] == 'AZUL LINHAS AÉREAS BRASILEIRAS S/A') | (df_case02['nm_empresa'] == 'GOL LINHAS AÉREAS S.A. (EX- VRG LINHAS AÉREAS S.A.)')]\r\n",
    "\r\n",
    "## Gerar o TOP 15 de voos pela Azul, agregando a quantidade de voos por trecho entre aeroportos\r\n",
    "qtd_voos_origem_destino = qtd_voos_origem_destino.groupby(by = ['nm_empresa', 'sg_iata_origem', 'nm_municipio_origem', 'sg_iata_destino', 'nm_municipio_destino']).agg({'count'})\r\n",
    "\r\n",
    "## Gerar a oordenação, renomear e resetar o índice do Dataframe\r\n",
    "qtd_voos_origem_destino = qtd_voos_origem_destino['id_basica'].sort_values(by= 'count', ascending=False)\r\n",
    "\r\n",
    "qtd_voos_origem_destino.columns = ['Quantidade de Voos']\r\n",
    "qtd_voos_origem_destino = qtd_voos_origem_destino.reset_index()\r\n",
    "qtd_voos_origem_destino.query('nm_empresa == \"AZUL LINHAS AÉREAS BRASILEIRAS S/A\"').head(15).to_csv('./output/top15_voos_realizados_azul.csv')\r\n",
    "\r\n",
    "# Exibir o dataframe\r\n",
    "qtd_voos_origem_destino.query('nm_empresa == \"AZUL LINHAS AÉREAS BRASILEIRAS S/A\"').head(15)"
   ]
  },
  {
   "cell_type": "code",
   "execution_count": 7,
   "metadata": {},
   "outputs": [
    {
     "output_type": "execute_result",
     "data": {
      "text/plain": [
       "                                           nm_empresa sg_iata_origem  \\\n",
       "9   GOL LINHAS AÉREAS S.A. (EX- VRG LINHAS AÉREAS ...            SDU   \n",
       "11  GOL LINHAS AÉREAS S.A. (EX- VRG LINHAS AÉREAS ...            CGH   \n",
       "50  GOL LINHAS AÉREAS S.A. (EX- VRG LINHAS AÉREAS ...            GRU   \n",
       "51  GOL LINHAS AÉREAS S.A. (EX- VRG LINHAS AÉREAS ...            BSB   \n",
       "58  GOL LINHAS AÉREAS S.A. (EX- VRG LINHAS AÉREAS ...            CNF   \n",
       "59  GOL LINHAS AÉREAS S.A. (EX- VRG LINHAS AÉREAS ...            REC   \n",
       "60  GOL LINHAS AÉREAS S.A. (EX- VRG LINHAS AÉREAS ...            GRU   \n",
       "61  GOL LINHAS AÉREAS S.A. (EX- VRG LINHAS AÉREAS ...            POA   \n",
       "62  GOL LINHAS AÉREAS S.A. (EX- VRG LINHAS AÉREAS ...            GRU   \n",
       "63  GOL LINHAS AÉREAS S.A. (EX- VRG LINHAS AÉREAS ...            FLN   \n",
       "64  GOL LINHAS AÉREAS S.A. (EX- VRG LINHAS AÉREAS ...            GRU   \n",
       "65  GOL LINHAS AÉREAS S.A. (EX- VRG LINHAS AÉREAS ...            GRU   \n",
       "67  GOL LINHAS AÉREAS S.A. (EX- VRG LINHAS AÉREAS ...            GRU   \n",
       "69  GOL LINHAS AÉREAS S.A. (EX- VRG LINHAS AÉREAS ...            FOR   \n",
       "70  GOL LINHAS AÉREAS S.A. (EX- VRG LINHAS AÉREAS ...            CWB   \n",
       "\n",
       "     nm_municipio_origem sg_iata_destino nm_municipio_destino  \\\n",
       "9         RIO DE JANEIRO             CGH            SÃO PAULO   \n",
       "11             SÃO PAULO             SDU       RIO DE JANEIRO   \n",
       "50             GUARULHOS             BSB             BRASÍLIA   \n",
       "51              BRASÍLIA             GRU            GUARULHOS   \n",
       "58               CONFINS             GRU            GUARULHOS   \n",
       "59                RECIFE             GRU            GUARULHOS   \n",
       "60             GUARULHOS             REC               RECIFE   \n",
       "61          PORTO ALEGRE             GRU            GUARULHOS   \n",
       "62             GUARULHOS             CNF              CONFINS   \n",
       "63         FLORIANÓPOLIS             GRU            GUARULHOS   \n",
       "64             GUARULHOS             FLN        FLORIANÓPOLIS   \n",
       "65             GUARULHOS             POA         PORTO ALEGRE   \n",
       "67             GUARULHOS             FOR            FORTALEZA   \n",
       "69             FORTALEZA             GRU            GUARULHOS   \n",
       "70  SÃO JOSÉ DOS PINHAIS             GRU            GUARULHOS   \n",
       "\n",
       "    Quantidade de Voos  \n",
       "9                  168  \n",
       "11                 166  \n",
       "50                 102  \n",
       "51                 100  \n",
       "58                  98  \n",
       "59                  98  \n",
       "60                  97  \n",
       "61                  97  \n",
       "62                  97  \n",
       "63                  96  \n",
       "64                  96  \n",
       "65                  96  \n",
       "67                  95  \n",
       "69                  95  \n",
       "70                  94  "
      ],
      "text/html": "<div>\n<style scoped>\n    .dataframe tbody tr th:only-of-type {\n        vertical-align: middle;\n    }\n\n    .dataframe tbody tr th {\n        vertical-align: top;\n    }\n\n    .dataframe thead th {\n        text-align: right;\n    }\n</style>\n<table border=\"1\" class=\"dataframe\">\n  <thead>\n    <tr style=\"text-align: right;\">\n      <th></th>\n      <th>nm_empresa</th>\n      <th>sg_iata_origem</th>\n      <th>nm_municipio_origem</th>\n      <th>sg_iata_destino</th>\n      <th>nm_municipio_destino</th>\n      <th>Quantidade de Voos</th>\n    </tr>\n  </thead>\n  <tbody>\n    <tr>\n      <th>9</th>\n      <td>GOL LINHAS AÉREAS S.A. (EX- VRG LINHAS AÉREAS ...</td>\n      <td>SDU</td>\n      <td>RIO DE JANEIRO</td>\n      <td>CGH</td>\n      <td>SÃO PAULO</td>\n      <td>168</td>\n    </tr>\n    <tr>\n      <th>11</th>\n      <td>GOL LINHAS AÉREAS S.A. (EX- VRG LINHAS AÉREAS ...</td>\n      <td>CGH</td>\n      <td>SÃO PAULO</td>\n      <td>SDU</td>\n      <td>RIO DE JANEIRO</td>\n      <td>166</td>\n    </tr>\n    <tr>\n      <th>50</th>\n      <td>GOL LINHAS AÉREAS S.A. (EX- VRG LINHAS AÉREAS ...</td>\n      <td>GRU</td>\n      <td>GUARULHOS</td>\n      <td>BSB</td>\n      <td>BRASÍLIA</td>\n      <td>102</td>\n    </tr>\n    <tr>\n      <th>51</th>\n      <td>GOL LINHAS AÉREAS S.A. (EX- VRG LINHAS AÉREAS ...</td>\n      <td>BSB</td>\n      <td>BRASÍLIA</td>\n      <td>GRU</td>\n      <td>GUARULHOS</td>\n      <td>100</td>\n    </tr>\n    <tr>\n      <th>58</th>\n      <td>GOL LINHAS AÉREAS S.A. (EX- VRG LINHAS AÉREAS ...</td>\n      <td>CNF</td>\n      <td>CONFINS</td>\n      <td>GRU</td>\n      <td>GUARULHOS</td>\n      <td>98</td>\n    </tr>\n    <tr>\n      <th>59</th>\n      <td>GOL LINHAS AÉREAS S.A. (EX- VRG LINHAS AÉREAS ...</td>\n      <td>REC</td>\n      <td>RECIFE</td>\n      <td>GRU</td>\n      <td>GUARULHOS</td>\n      <td>98</td>\n    </tr>\n    <tr>\n      <th>60</th>\n      <td>GOL LINHAS AÉREAS S.A. (EX- VRG LINHAS AÉREAS ...</td>\n      <td>GRU</td>\n      <td>GUARULHOS</td>\n      <td>REC</td>\n      <td>RECIFE</td>\n      <td>97</td>\n    </tr>\n    <tr>\n      <th>61</th>\n      <td>GOL LINHAS AÉREAS S.A. (EX- VRG LINHAS AÉREAS ...</td>\n      <td>POA</td>\n      <td>PORTO ALEGRE</td>\n      <td>GRU</td>\n      <td>GUARULHOS</td>\n      <td>97</td>\n    </tr>\n    <tr>\n      <th>62</th>\n      <td>GOL LINHAS AÉREAS S.A. (EX- VRG LINHAS AÉREAS ...</td>\n      <td>GRU</td>\n      <td>GUARULHOS</td>\n      <td>CNF</td>\n      <td>CONFINS</td>\n      <td>97</td>\n    </tr>\n    <tr>\n      <th>63</th>\n      <td>GOL LINHAS AÉREAS S.A. (EX- VRG LINHAS AÉREAS ...</td>\n      <td>FLN</td>\n      <td>FLORIANÓPOLIS</td>\n      <td>GRU</td>\n      <td>GUARULHOS</td>\n      <td>96</td>\n    </tr>\n    <tr>\n      <th>64</th>\n      <td>GOL LINHAS AÉREAS S.A. (EX- VRG LINHAS AÉREAS ...</td>\n      <td>GRU</td>\n      <td>GUARULHOS</td>\n      <td>FLN</td>\n      <td>FLORIANÓPOLIS</td>\n      <td>96</td>\n    </tr>\n    <tr>\n      <th>65</th>\n      <td>GOL LINHAS AÉREAS S.A. (EX- VRG LINHAS AÉREAS ...</td>\n      <td>GRU</td>\n      <td>GUARULHOS</td>\n      <td>POA</td>\n      <td>PORTO ALEGRE</td>\n      <td>96</td>\n    </tr>\n    <tr>\n      <th>67</th>\n      <td>GOL LINHAS AÉREAS S.A. (EX- VRG LINHAS AÉREAS ...</td>\n      <td>GRU</td>\n      <td>GUARULHOS</td>\n      <td>FOR</td>\n      <td>FORTALEZA</td>\n      <td>95</td>\n    </tr>\n    <tr>\n      <th>69</th>\n      <td>GOL LINHAS AÉREAS S.A. (EX- VRG LINHAS AÉREAS ...</td>\n      <td>FOR</td>\n      <td>FORTALEZA</td>\n      <td>GRU</td>\n      <td>GUARULHOS</td>\n      <td>95</td>\n    </tr>\n    <tr>\n      <th>70</th>\n      <td>GOL LINHAS AÉREAS S.A. (EX- VRG LINHAS AÉREAS ...</td>\n      <td>CWB</td>\n      <td>SÃO JOSÉ DOS PINHAIS</td>\n      <td>GRU</td>\n      <td>GUARULHOS</td>\n      <td>94</td>\n    </tr>\n  </tbody>\n</table>\n</div>"
     },
     "metadata": {},
     "execution_count": 7
    }
   ],
   "source": [
    "\n",
    "# Exibir o mesmo dataframe, porém filtrando apenas os dados relativos a GOL Linhas Aéreas S.A e gerar o TOP 15.\n",
    "\n",
    "qtd_voos_origem_destino.query('nm_empresa == \"GOL LINHAS AÉREAS S.A. (EX- VRG LINHAS AÉREAS S.A.)\"').head(15).to_csv('./output/top15_voos_realizados_gol.csv')\n",
    "qtd_voos_origem_destino.query('nm_empresa == \"GOL LINHAS AÉREAS S.A. (EX- VRG LINHAS AÉREAS S.A.)\"').head(15)"
   ]
  },
  {
   "source": [
    "<p>Tanto a Azul Linhas Aéreas quanto a Gol linhas Aéreas, utilizam o paradigma spoke-hub de distribuição de voos. O paradigma consiste em centralizar os voos em Aeroportos onde há maior número de voos saindo para atender outras cidades, então, os aeroportos onde a movimentação não é tão expressiva deve ser ligados em um Aeroporto onde há o maior número de voos. O spoke-hub está mais presente na Azul, uma vez que seu HUB principal é VCP. Enquanto na Gol, o HUB é GRU e CGH. Diferente da Gol, a Azul teve um número mais expressivo em trechos comuns entre o HUB ao Aeroporto de Confins (CNF). Isso é devido a Azul ter um expressivo número de voos regionais interligado o interior de Minas Gerais a capital e também ser um HUB estratégico da empresa. </p>  <br> <p>Uma outra análise é do trecho mais comum do Brasil: a ponte aérea. A Azul Linhas Aéreas realizou mais de 185 voos entre Santos Dumont (RJ) para Congonhas (SP), enquanto a Gol realizou 168.  </p>"
   ],
   "cell_type": "markdown",
   "metadata": {}
  },
  {
   "cell_type": "code",
   "execution_count": 8,
   "metadata": {},
   "outputs": [
    {
     "output_type": "stream",
     "name": "stderr",
     "text": [
      "C:\\Users\\mayco\\anaconda3\\lib\\site-packages\\IPython\\core\\interactiveshell.py:3146: DtypeWarning: Columns (8,10) have mixed types.Specify dtype option on import or set low_memory=False.\n  has_raised = await self.run_ast_nodes(code_ast.body, cell_name,\n"
     ]
    },
    {
     "output_type": "execute_result",
     "data": {
      "text/plain": [
       "nm_empresa\n",
       "AZUL LINHAS AÉREAS BRASILEIRAS S/A                     185\n",
       "GOL LINHAS AÉREAS S.A. (EX- VRG LINHAS AÉREAS S.A.)    168\n",
       "Name: id_basica, dtype: int64"
      ]
     },
     "metadata": {},
     "execution_count": 8
    }
   ],
   "source": [
    "# Importar o dataset da ANAC, gerar o comparativo entre Azul e GOL entre SDU-CGH e contar a quantidade de voos. \n",
    "\n",
    "df_comparativo_sducgh = pd.read_csv('./input/basica2021-05.txt', error_bad_lines=False, encoding='latin', sep=';')\n",
    "df_comparativo_sducgh = df_comparativo_sducgh.query('(nm_empresa == \"GOL LINHAS AÉREAS S.A. (EX- VRG LINHAS AÉREAS S.A.)\" | nm_empresa == \"AZUL LINHAS AÉREAS BRASILEIRAS S/A\") & sg_iata_origem == \"SDU\" & sg_iata_destino == \"CGH\"')\n",
    "df_comparativo_sducgh.groupby(by= 'nm_empresa')['id_basica'].count()"
   ]
  },
  {
   "cell_type": "code",
   "execution_count": 9,
   "metadata": {},
   "outputs": [
    {
     "output_type": "execute_result",
     "data": {
      "text/plain": [
       "       AZUL Linhas Aéreas  GOL Linhas Aéreas\n",
       "count          185.000000         166.000000\n",
       "mean            70.573135          83.191265\n",
       "std             19.433047          11.131899\n",
       "min             33.050000          53.450000\n",
       "25%             52.540000          76.605000\n",
       "50%             72.030000          85.385000\n",
       "75%             88.980000          92.385000\n",
       "max            100.000000          99.440000"
      ],
      "text/html": "<div>\n<style scoped>\n    .dataframe tbody tr th:only-of-type {\n        vertical-align: middle;\n    }\n\n    .dataframe tbody tr th {\n        vertical-align: top;\n    }\n\n    .dataframe thead th {\n        text-align: right;\n    }\n</style>\n<table border=\"1\" class=\"dataframe\">\n  <thead>\n    <tr style=\"text-align: right;\">\n      <th></th>\n      <th>AZUL Linhas Aéreas</th>\n      <th>GOL Linhas Aéreas</th>\n    </tr>\n  </thead>\n  <tbody>\n    <tr>\n      <th>count</th>\n      <td>185.000000</td>\n      <td>166.000000</td>\n    </tr>\n    <tr>\n      <th>mean</th>\n      <td>70.573135</td>\n      <td>83.191265</td>\n    </tr>\n    <tr>\n      <th>std</th>\n      <td>19.433047</td>\n      <td>11.131899</td>\n    </tr>\n    <tr>\n      <th>min</th>\n      <td>33.050000</td>\n      <td>53.450000</td>\n    </tr>\n    <tr>\n      <th>25%</th>\n      <td>52.540000</td>\n      <td>76.605000</td>\n    </tr>\n    <tr>\n      <th>50%</th>\n      <td>72.030000</td>\n      <td>85.385000</td>\n    </tr>\n    <tr>\n      <th>75%</th>\n      <td>88.980000</td>\n      <td>92.385000</td>\n    </tr>\n    <tr>\n      <th>max</th>\n      <td>100.000000</td>\n      <td>99.440000</td>\n    </tr>\n  </tbody>\n</table>\n</div>"
     },
     "metadata": {},
     "execution_count": 9
    }
   ],
   "source": [
    "# Importar o dataset da ANAC, buscar apenas os voos da Gol Linhas Aéreas e da Azul entre o trecho SDU-CGH, em seguida, usar a fórmula nr_rpk/nr_ask para entender qual a ocupação entre as duas empresas.\r\n",
    "\r\n",
    "df_comparativo_sducgh = pd.read_csv('./input/basica2021-05.txt', error_bad_lines=False, encoding='latin', sep=';') \r\n",
    "df_comparativo_sducgh = df_comparativo_sducgh.query('(nm_empresa == \"GOL LINHAS AÉREAS S.A. (EX- VRG LINHAS AÉREAS S.A.)\" | nm_empresa == \"AZUL LINHAS AÉREAS BRASILEIRAS S/A\") & sg_iata_origem == \"SDU\" & sg_iata_destino == \"CGH\"')\r\n",
    "df_comparativo_sducgh['dt_partida_real'] = pd.to_datetime(df_comparativo_sducgh['dt_partida_real'])\r\n",
    "df_comparativo_sducgh['diasemana_partida_real'] = df_comparativo_sducgh['dt_partida_real'].dt.day_name(locale='pt')\r\n",
    "df_comparativo_sducgh['ocupacao'] = pd.to_numeric(df_comparativo_sducgh['nr_rpk']/df_comparativo_sducgh['nr_ask']*100).astype(float).round(2)\r\n",
    "tabela_comparativa = df_comparativo_sducgh.groupby(by= ['nm_empresa'], sort=True)['ocupacao'].describe().transpose()\r\n",
    "tabela_comparativa.columns = ['AZUL Linhas Aéreas', 'GOL Linhas Aéreas']\r\n",
    "dfi.export(tabela_comparativa,\"./output/imgs/df_comparativo_ponteaerea.png\")\r\n",
    "tabela_comparativa\r\n"
   ]
  },
  {
   "source": [
    "Apesar de maior número de voos no trecho SDU-CGH, a Gol Linhas Aéreas apresentou maior média de ocupação, 83.19% de ocupação em seus voos (RPK/ASK), contra 70.57% da Azul Linhas Aéreas."
   ],
   "cell_type": "markdown",
   "metadata": {}
  },
  {
   "cell_type": "code",
   "execution_count": 10,
   "metadata": {},
   "outputs": [
    {
     "output_type": "stream",
     "name": "stderr",
     "text": [
      "C:\\Users\\mayco\\anaconda3\\lib\\site-packages\\IPython\\core\\interactiveshell.py:3146: DtypeWarning: Columns (8,10) have mixed types.Specify dtype option on import or set low_memory=False.\n  has_raised = await self.run_ast_nodes(code_ast.body, cell_name,\n"
     ]
    },
    {
     "output_type": "execute_result",
     "data": {
      "text/plain": [
       "nm_empresa             AZUL LINHAS AÉREAS BRASILEIRAS S/A               \\\n",
       "diasemana_partida_real                            Domingo Quarta-feira   \n",
       "count                                           28.000000    22.000000   \n",
       "mean                                            89.589286    63.518182   \n",
       "std                                              7.194151    20.006895   \n",
       "min                                             69.500000    33.100000   \n",
       "25%                                             86.875000    45.325000   \n",
       "50%                                             91.500000    63.150000   \n",
       "75%                                             94.300000    80.750000   \n",
       "max                                            100.000000    96.600000   \n",
       "\n",
       "nm_empresa                                                                \\\n",
       "diasemana_partida_real Quinta-feira Segunda-feira Sexta-feira     Sábado   \n",
       "count                     28.000000     35.000000   30.000000  19.000000   \n",
       "mean                      55.503571     82.825714   65.226667  61.057895   \n",
       "std                       13.450223     13.465388   17.478005  19.815687   \n",
       "min                       35.600000     52.500000   34.700000  34.700000   \n",
       "25%                       44.900000     70.300000   47.500000  44.100000   \n",
       "50%                       52.500000     89.000000   67.350000  57.600000   \n",
       "75%                       59.550000     91.950000   78.600000  76.250000   \n",
       "max                       92.400000     97.500000   94.900000  93.200000   \n",
       "\n",
       "nm_empresa                          \\\n",
       "diasemana_partida_real Terça-feira   \n",
       "count                    23.000000   \n",
       "mean                     68.682609   \n",
       "std                      18.098283   \n",
       "min                      41.500000   \n",
       "25%                      54.200000   \n",
       "50%                      72.000000   \n",
       "75%                      83.900000   \n",
       "max                      97.500000   \n",
       "\n",
       "nm_empresa             GOL LINHAS AÉREAS S.A. (EX- VRG LINHAS AÉREAS S.A.)  \\\n",
       "diasemana_partida_real                                             Domingo   \n",
       "count                                                           26.000000    \n",
       "mean                                                            89.234615    \n",
       "std                                                              8.939483    \n",
       "min                                                             61.600000    \n",
       "25%                                                             86.750000    \n",
       "50%                                                             91.950000    \n",
       "75%                                                             94.475000    \n",
       "max                                                             98.900000    \n",
       "\n",
       "nm_empresa                                                                  \\\n",
       "diasemana_partida_real Quarta-feira Quinta-feira Segunda-feira Sexta-feira   \n",
       "count                     19.000000    21.000000     33.000000   28.000000   \n",
       "mean                      77.078947    83.642857     86.133333   80.110714   \n",
       "std                       12.089875     9.503345     11.998090   12.122594   \n",
       "min                       55.200000    58.200000     53.400000   53.800000   \n",
       "25%                       67.100000    79.700000     82.300000   73.525000   \n",
       "50%                       80.500000    85.300000     90.600000   81.500000   \n",
       "75%                       85.750000    91.300000     95.300000   89.925000   \n",
       "max                       96.600000    96.700000     99.400000   95.400000   \n",
       "\n",
       "nm_empresa                                     \n",
       "diasemana_partida_real     Sábado Terça-feira  \n",
       "count                   21.000000   18.000000  \n",
       "mean                    79.657143   83.955556  \n",
       "std                     10.351598    6.858762  \n",
       "min                     60.100000   69.000000  \n",
       "25%                     71.300000   80.275000  \n",
       "50%                     83.700000   84.600000  \n",
       "75%                     87.600000   88.950000  \n",
       "max                     93.000000   95.000000  "
      ],
      "text/html": "<div>\n<style scoped>\n    .dataframe tbody tr th:only-of-type {\n        vertical-align: middle;\n    }\n\n    .dataframe tbody tr th {\n        vertical-align: top;\n    }\n\n    .dataframe thead tr th {\n        text-align: left;\n    }\n</style>\n<table border=\"1\" class=\"dataframe\">\n  <thead>\n    <tr>\n      <th>nm_empresa</th>\n      <th colspan=\"7\" halign=\"left\">AZUL LINHAS AÉREAS BRASILEIRAS S/A</th>\n      <th colspan=\"7\" halign=\"left\">GOL LINHAS AÉREAS S.A. (EX- VRG LINHAS AÉREAS S.A.)</th>\n    </tr>\n    <tr>\n      <th>diasemana_partida_real</th>\n      <th>Domingo</th>\n      <th>Quarta-feira</th>\n      <th>Quinta-feira</th>\n      <th>Segunda-feira</th>\n      <th>Sexta-feira</th>\n      <th>Sábado</th>\n      <th>Terça-feira</th>\n      <th>Domingo</th>\n      <th>Quarta-feira</th>\n      <th>Quinta-feira</th>\n      <th>Segunda-feira</th>\n      <th>Sexta-feira</th>\n      <th>Sábado</th>\n      <th>Terça-feira</th>\n    </tr>\n  </thead>\n  <tbody>\n    <tr>\n      <th>count</th>\n      <td>28.000000</td>\n      <td>22.000000</td>\n      <td>28.000000</td>\n      <td>35.000000</td>\n      <td>30.000000</td>\n      <td>19.000000</td>\n      <td>23.000000</td>\n      <td>26.000000</td>\n      <td>19.000000</td>\n      <td>21.000000</td>\n      <td>33.000000</td>\n      <td>28.000000</td>\n      <td>21.000000</td>\n      <td>18.000000</td>\n    </tr>\n    <tr>\n      <th>mean</th>\n      <td>89.589286</td>\n      <td>63.518182</td>\n      <td>55.503571</td>\n      <td>82.825714</td>\n      <td>65.226667</td>\n      <td>61.057895</td>\n      <td>68.682609</td>\n      <td>89.234615</td>\n      <td>77.078947</td>\n      <td>83.642857</td>\n      <td>86.133333</td>\n      <td>80.110714</td>\n      <td>79.657143</td>\n      <td>83.955556</td>\n    </tr>\n    <tr>\n      <th>std</th>\n      <td>7.194151</td>\n      <td>20.006895</td>\n      <td>13.450223</td>\n      <td>13.465388</td>\n      <td>17.478005</td>\n      <td>19.815687</td>\n      <td>18.098283</td>\n      <td>8.939483</td>\n      <td>12.089875</td>\n      <td>9.503345</td>\n      <td>11.998090</td>\n      <td>12.122594</td>\n      <td>10.351598</td>\n      <td>6.858762</td>\n    </tr>\n    <tr>\n      <th>min</th>\n      <td>69.500000</td>\n      <td>33.100000</td>\n      <td>35.600000</td>\n      <td>52.500000</td>\n      <td>34.700000</td>\n      <td>34.700000</td>\n      <td>41.500000</td>\n      <td>61.600000</td>\n      <td>55.200000</td>\n      <td>58.200000</td>\n      <td>53.400000</td>\n      <td>53.800000</td>\n      <td>60.100000</td>\n      <td>69.000000</td>\n    </tr>\n    <tr>\n      <th>25%</th>\n      <td>86.875000</td>\n      <td>45.325000</td>\n      <td>44.900000</td>\n      <td>70.300000</td>\n      <td>47.500000</td>\n      <td>44.100000</td>\n      <td>54.200000</td>\n      <td>86.750000</td>\n      <td>67.100000</td>\n      <td>79.700000</td>\n      <td>82.300000</td>\n      <td>73.525000</td>\n      <td>71.300000</td>\n      <td>80.275000</td>\n    </tr>\n    <tr>\n      <th>50%</th>\n      <td>91.500000</td>\n      <td>63.150000</td>\n      <td>52.500000</td>\n      <td>89.000000</td>\n      <td>67.350000</td>\n      <td>57.600000</td>\n      <td>72.000000</td>\n      <td>91.950000</td>\n      <td>80.500000</td>\n      <td>85.300000</td>\n      <td>90.600000</td>\n      <td>81.500000</td>\n      <td>83.700000</td>\n      <td>84.600000</td>\n    </tr>\n    <tr>\n      <th>75%</th>\n      <td>94.300000</td>\n      <td>80.750000</td>\n      <td>59.550000</td>\n      <td>91.950000</td>\n      <td>78.600000</td>\n      <td>76.250000</td>\n      <td>83.900000</td>\n      <td>94.475000</td>\n      <td>85.750000</td>\n      <td>91.300000</td>\n      <td>95.300000</td>\n      <td>89.925000</td>\n      <td>87.600000</td>\n      <td>88.950000</td>\n    </tr>\n    <tr>\n      <th>max</th>\n      <td>100.000000</td>\n      <td>96.600000</td>\n      <td>92.400000</td>\n      <td>97.500000</td>\n      <td>94.900000</td>\n      <td>93.200000</td>\n      <td>97.500000</td>\n      <td>98.900000</td>\n      <td>96.600000</td>\n      <td>96.700000</td>\n      <td>99.400000</td>\n      <td>95.400000</td>\n      <td>93.000000</td>\n      <td>95.000000</td>\n    </tr>\n  </tbody>\n</table>\n</div>"
     },
     "metadata": {},
     "execution_count": 10
    }
   ],
   "source": [
    "# Importar o dataset da ANAC, buscar apenas os voos da Gol Linhas Aéreas e da Azul entre o trecho SDU-CGH, em seguida, usar a fórmula nr_rpk/nr_ask para entender qual a ocupação entre as duas empresas.\n",
    "# Em seguida, entender como está sendo feita a distribuição da ocupação entre os dias da semana entre as duas empresas aéreas\n",
    "\n",
    "df_comparativo_sducgh = pd.read_csv('./input/basica2021-05.txt', error_bad_lines=False, encoding='latin', sep=';')\n",
    "df_comparativo_sducgh = df_comparativo_sducgh.query('(nm_empresa == \"GOL LINHAS AÉREAS S.A. (EX- VRG LINHAS AÉREAS S.A.)\" | nm_empresa == \"AZUL LINHAS AÉREAS BRASILEIRAS S/A\") & sg_iata_origem == \"SDU\" & sg_iata_destino == \"CGH\"')\n",
    "df_comparativo_sducgh['dt_partida_real'] = pd.to_datetime(df_comparativo_sducgh['dt_partida_real'])\n",
    "df_comparativo_sducgh['diasemana_partida_real'] = df_comparativo_sducgh['dt_partida_real'].dt.day_name(locale='pt')\n",
    "df_comparativo_sducgh['ocupacao'] = pd.to_numeric(round(df_comparativo_sducgh['nr_rpk']/df_comparativo_sducgh['nr_ask']*100, 1))\n",
    "df_comparativo_sducgh.groupby(by= ['nm_empresa', 'diasemana_partida_real'], sort=True)['ocupacao'].describe().transpose()\n"
   ]
  },
  {
   "source": [
    "Em uma análise a média de ocupação nos voos entre SDU e CGH é possível identificar que Domingo e Segunda são os dias mais críticos para a operação da ponte aérea para as duas empresas, sendo que a Gol tem obtido maior ocupação na Segunda-Feira, com 86.14, ao contrário da Azul, que teve 82.23%."
   ],
   "cell_type": "markdown",
   "metadata": {}
  },
  {
   "cell_type": "code",
   "execution_count": 11,
   "metadata": {},
   "outputs": [
    {
     "output_type": "stream",
     "name": "stderr",
     "text": [
      "C:\\Users\\mayco\\anaconda3\\lib\\site-packages\\IPython\\core\\interactiveshell.py:3146: DtypeWarning: Columns (8,10) have mixed types.Specify dtype option on import or set low_memory=False.\n  has_raised = await self.run_ast_nodes(code_ast.body, cell_name,\n"
     ]
    },
    {
     "output_type": "execute_result",
     "data": {
      "text/plain": [
       "ocupacao    19\n",
       "dtype: int64"
      ]
     },
     "metadata": {},
     "execution_count": 11
    }
   ],
   "source": [
    "# Buscar no Dataset da ANAC, quais trechos da GOL Linhas Aéreas obteve taxa média de ocupação menor que 50%\n",
    "#  \n",
    "df_ocupacao_destinos_gol = pd.read_csv('./input/basica2021-05.txt', error_bad_lines=False, encoding='latin', sep=';')\n",
    "df_ocupacao_destinos_gol = df_ocupacao_destinos_gol.query('(nm_empresa == \"GOL LINHAS AÉREAS S.A. (EX- VRG LINHAS AÉREAS S.A.)\")')\n",
    "df_ocupacao_destinos_gol['dt_partida_real'] = pd.to_datetime(df_ocupacao_destinos_gol['dt_partida_real'])\n",
    "df_ocupacao_destinos_gol['diasemana_partida_real'] = df_ocupacao_destinos_gol['dt_partida_real'].dt.day_name(locale='pt')\n",
    "df_ocupacao_destinos_gol['ocupacao'] = df_ocupacao_destinos_gol['nr_rpk']/df_ocupacao_destinos_gol['nr_ask']*100\n",
    "df_ocupacao_destinos_gol = df_ocupacao_destinos_gol.groupby(by= ['sg_iata_origem', 'nm_municipio_origem', 'sg_iata_destino', 'nm_municipio_destino'], sort=True)[['ocupacao']].mean().sort_values(by= 'ocupacao', ascending=True)\n",
    "df_ocupacao_destinos_gol\n",
    "\n",
    "# Exportar quantidade de trechos em uma imagem para anexar na apresentação \n",
    "dfi.export(df_ocupacao_destinos_gol[df_ocupacao_destinos_gol.ocupacao < 50],\"./output/imgs/df_ocupacao_destinos_gol.png\")\n",
    "\n",
    "# Contar quantos trechos teve menor que 50% de ocupação \n",
    "df_ocupacao_destinos_gol[df_ocupacao_destinos_gol.ocupacao < 50].count()"
   ]
  },
  {
   "cell_type": "code",
   "execution_count": 12,
   "metadata": {},
   "outputs": [
    {
     "output_type": "execute_result",
     "data": {
      "text/plain": [
       "                                                                                             ocupacao\n",
       "sg_iata_origem nm_municipio_origem           sg_iata_destino nm_municipio_destino                    \n",
       "FOR            FORTALEZA                     BVB             BOA VISTA                       0.000000\n",
       "BAQ            BARRANQUILLA                  GYE             GUAYAQUIL                       0.537634\n",
       "CKS            PARAUAPEBAS                   SLZ             SÃO LUÍS                       27.150538\n",
       "SLZ            SÃO LUÍS                      CKS             PARAUAPEBAS                    28.225806\n",
       "GIG            RIO DE JANEIRO                EZE             EZEIZA, BUENOS AIRES PROVINCE  29.032258\n",
       "GYE            GUAYAQUIL                     GIG             RIO DE JANEIRO                 29.032258\n",
       "GIG            RIO DE JANEIRO                BAQ             BARRANQUILLA                   29.569892\n",
       "EZE            EZEIZA, BUENOS AIRES PROVINCE GIG             RIO DE JANEIRO                 29.569892\n",
       "GIG            RIO DE JANEIRO                SCL             SANTIAGO                       30.645161\n",
       "SCL            SANTIAGO                      GIG             RIO DE JANEIRO                 30.645161\n",
       "ASU            ASUNCIÓN                      CNF             CONFINS                        31.720430\n",
       "CNF            CONFINS                       ASU             ASUNCIÓN                       31.720430\n",
       "RBR            RIO BRANCO                    CZS             CRUZEIRO DO SUL                40.903922\n",
       "VCP            CAMPINAS                      SDU             RIO DE JANEIRO                 43.954451\n",
       "CNF            CONFINS                       CKS             PARAUAPEBAS                    44.175627\n",
       "CZS            CRUZEIRO DO SUL               RBR             RIO BRANCO                     44.324600\n",
       "SDU            RIO DE JANEIRO                VCP             CAMPINAS                       44.985112\n",
       "CKS            PARAUAPEBAS                   CNF             CONFINS                        45.878136\n",
       "                                             BSB             BRASÍLIA                       48.757764"
      ],
      "text/html": "<div>\n<style scoped>\n    .dataframe tbody tr th:only-of-type {\n        vertical-align: middle;\n    }\n\n    .dataframe tbody tr th {\n        vertical-align: top;\n    }\n\n    .dataframe thead th {\n        text-align: right;\n    }\n</style>\n<table border=\"1\" class=\"dataframe\">\n  <thead>\n    <tr style=\"text-align: right;\">\n      <th></th>\n      <th></th>\n      <th></th>\n      <th></th>\n      <th>ocupacao</th>\n    </tr>\n    <tr>\n      <th>sg_iata_origem</th>\n      <th>nm_municipio_origem</th>\n      <th>sg_iata_destino</th>\n      <th>nm_municipio_destino</th>\n      <th></th>\n    </tr>\n  </thead>\n  <tbody>\n    <tr>\n      <th>FOR</th>\n      <th>FORTALEZA</th>\n      <th>BVB</th>\n      <th>BOA VISTA</th>\n      <td>0.000000</td>\n    </tr>\n    <tr>\n      <th>BAQ</th>\n      <th>BARRANQUILLA</th>\n      <th>GYE</th>\n      <th>GUAYAQUIL</th>\n      <td>0.537634</td>\n    </tr>\n    <tr>\n      <th>CKS</th>\n      <th>PARAUAPEBAS</th>\n      <th>SLZ</th>\n      <th>SÃO LUÍS</th>\n      <td>27.150538</td>\n    </tr>\n    <tr>\n      <th>SLZ</th>\n      <th>SÃO LUÍS</th>\n      <th>CKS</th>\n      <th>PARAUAPEBAS</th>\n      <td>28.225806</td>\n    </tr>\n    <tr>\n      <th>GIG</th>\n      <th>RIO DE JANEIRO</th>\n      <th>EZE</th>\n      <th>EZEIZA, BUENOS AIRES PROVINCE</th>\n      <td>29.032258</td>\n    </tr>\n    <tr>\n      <th>GYE</th>\n      <th>GUAYAQUIL</th>\n      <th>GIG</th>\n      <th>RIO DE JANEIRO</th>\n      <td>29.032258</td>\n    </tr>\n    <tr>\n      <th>GIG</th>\n      <th>RIO DE JANEIRO</th>\n      <th>BAQ</th>\n      <th>BARRANQUILLA</th>\n      <td>29.569892</td>\n    </tr>\n    <tr>\n      <th>EZE</th>\n      <th>EZEIZA, BUENOS AIRES PROVINCE</th>\n      <th>GIG</th>\n      <th>RIO DE JANEIRO</th>\n      <td>29.569892</td>\n    </tr>\n    <tr>\n      <th>GIG</th>\n      <th>RIO DE JANEIRO</th>\n      <th>SCL</th>\n      <th>SANTIAGO</th>\n      <td>30.645161</td>\n    </tr>\n    <tr>\n      <th>SCL</th>\n      <th>SANTIAGO</th>\n      <th>GIG</th>\n      <th>RIO DE JANEIRO</th>\n      <td>30.645161</td>\n    </tr>\n    <tr>\n      <th>ASU</th>\n      <th>ASUNCIÓN</th>\n      <th>CNF</th>\n      <th>CONFINS</th>\n      <td>31.720430</td>\n    </tr>\n    <tr>\n      <th>CNF</th>\n      <th>CONFINS</th>\n      <th>ASU</th>\n      <th>ASUNCIÓN</th>\n      <td>31.720430</td>\n    </tr>\n    <tr>\n      <th>RBR</th>\n      <th>RIO BRANCO</th>\n      <th>CZS</th>\n      <th>CRUZEIRO DO SUL</th>\n      <td>40.903922</td>\n    </tr>\n    <tr>\n      <th>VCP</th>\n      <th>CAMPINAS</th>\n      <th>SDU</th>\n      <th>RIO DE JANEIRO</th>\n      <td>43.954451</td>\n    </tr>\n    <tr>\n      <th>CNF</th>\n      <th>CONFINS</th>\n      <th>CKS</th>\n      <th>PARAUAPEBAS</th>\n      <td>44.175627</td>\n    </tr>\n    <tr>\n      <th>CZS</th>\n      <th>CRUZEIRO DO SUL</th>\n      <th>RBR</th>\n      <th>RIO BRANCO</th>\n      <td>44.324600</td>\n    </tr>\n    <tr>\n      <th>SDU</th>\n      <th>RIO DE JANEIRO</th>\n      <th>VCP</th>\n      <th>CAMPINAS</th>\n      <td>44.985112</td>\n    </tr>\n    <tr>\n      <th rowspan=\"2\" valign=\"top\">CKS</th>\n      <th rowspan=\"2\" valign=\"top\">PARAUAPEBAS</th>\n      <th>CNF</th>\n      <th>CONFINS</th>\n      <td>45.878136</td>\n    </tr>\n    <tr>\n      <th>BSB</th>\n      <th>BRASÍLIA</th>\n      <td>48.757764</td>\n    </tr>\n  </tbody>\n</table>\n</div>"
     },
     "metadata": {},
     "execution_count": 12
    }
   ],
   "source": [
    "df_ocupacao_destinos_gol[df_ocupacao_destinos_gol.ocupacao < 50] # Exibir o dataframe com trechos e média de ocupação"
   ]
  },
  {
   "source": [
    "Em uma visão macro em relação aos voos executados pela Gol Linhas Aéreas, destaca-se que as piores ocupações foram em novos destinos inaugurados como Paraupebas (27.15% entre CKS-SLZ; 28.22% entre SLZ-CKS) e destinos internacionais como Ezeiza, Santiago, Guayaquil e Barranquilla. Uma hipótese para a baixa ocupação pode ser as restrições e medidas sanitárias de cada destino."
   ],
   "cell_type": "markdown",
   "metadata": {}
  },
  {
   "cell_type": "code",
   "execution_count": 13,
   "metadata": {},
   "outputs": [
    {
     "output_type": "execute_result",
     "data": {
      "text/plain": [
       "ocupacao    81\n",
       "dtype: int64"
      ]
     },
     "metadata": {},
     "execution_count": 13
    }
   ],
   "source": [
    "df_ocupacao_destinos_gol[df_ocupacao_destinos_gol.ocupacao > 90].count() # Exibir apenas destinos que tiveram ocupação superior a 90%"
   ]
  },
  {
   "cell_type": "code",
   "execution_count": 14,
   "metadata": {},
   "outputs": [
    {
     "output_type": "execute_result",
     "data": {
      "text/plain": [
       "                                                                              ocupacao\n",
       "sg_iata_origem nm_municipio_origem     sg_iata_destino nm_municipio_destino           \n",
       "SDU            RIO DE JANEIRO          CWB             SÃO JOSÉ DOS PINHAIS  98.184044\n",
       "MAO            MANAUS                  RBR             RIO BRANCO            97.311828\n",
       "NAT            SÃO GONÇALO DO AMARANTE CNF             CONFINS               97.311828\n",
       "JDO            JUAZEIRO DO NORTE       GRU             GUARULHOS             96.678187\n",
       "GRU            GUARULHOS               JDO             JUAZEIRO DO NORTE     96.614894\n",
       "...                                                                                ...\n",
       "CNF            CONFINS                 BSB             BRASÍLIA              90.601053\n",
       "NVT            NAVEGANTES              GIG             RIO DE JANEIRO        90.488007\n",
       "CWB            SÃO JOSÉ DOS PINHAIS    CNF             CONFINS               90.322581\n",
       "THE            TERESINA                BSB             BRASÍLIA              90.226718\n",
       "POA            PORTO ALEGRE            CGH             SÃO PAULO             90.214726\n",
       "\n",
       "[81 rows x 1 columns]"
      ],
      "text/html": "<div>\n<style scoped>\n    .dataframe tbody tr th:only-of-type {\n        vertical-align: middle;\n    }\n\n    .dataframe tbody tr th {\n        vertical-align: top;\n    }\n\n    .dataframe thead th {\n        text-align: right;\n    }\n</style>\n<table border=\"1\" class=\"dataframe\">\n  <thead>\n    <tr style=\"text-align: right;\">\n      <th></th>\n      <th></th>\n      <th></th>\n      <th></th>\n      <th>ocupacao</th>\n    </tr>\n    <tr>\n      <th>sg_iata_origem</th>\n      <th>nm_municipio_origem</th>\n      <th>sg_iata_destino</th>\n      <th>nm_municipio_destino</th>\n      <th></th>\n    </tr>\n  </thead>\n  <tbody>\n    <tr>\n      <th>SDU</th>\n      <th>RIO DE JANEIRO</th>\n      <th>CWB</th>\n      <th>SÃO JOSÉ DOS PINHAIS</th>\n      <td>98.184044</td>\n    </tr>\n    <tr>\n      <th>MAO</th>\n      <th>MANAUS</th>\n      <th>RBR</th>\n      <th>RIO BRANCO</th>\n      <td>97.311828</td>\n    </tr>\n    <tr>\n      <th>NAT</th>\n      <th>SÃO GONÇALO DO AMARANTE</th>\n      <th>CNF</th>\n      <th>CONFINS</th>\n      <td>97.311828</td>\n    </tr>\n    <tr>\n      <th>JDO</th>\n      <th>JUAZEIRO DO NORTE</th>\n      <th>GRU</th>\n      <th>GUARULHOS</th>\n      <td>96.678187</td>\n    </tr>\n    <tr>\n      <th>GRU</th>\n      <th>GUARULHOS</th>\n      <th>JDO</th>\n      <th>JUAZEIRO DO NORTE</th>\n      <td>96.614894</td>\n    </tr>\n    <tr>\n      <th>...</th>\n      <th>...</th>\n      <th>...</th>\n      <th>...</th>\n      <td>...</td>\n    </tr>\n    <tr>\n      <th>CNF</th>\n      <th>CONFINS</th>\n      <th>BSB</th>\n      <th>BRASÍLIA</th>\n      <td>90.601053</td>\n    </tr>\n    <tr>\n      <th>NVT</th>\n      <th>NAVEGANTES</th>\n      <th>GIG</th>\n      <th>RIO DE JANEIRO</th>\n      <td>90.488007</td>\n    </tr>\n    <tr>\n      <th>CWB</th>\n      <th>SÃO JOSÉ DOS PINHAIS</th>\n      <th>CNF</th>\n      <th>CONFINS</th>\n      <td>90.322581</td>\n    </tr>\n    <tr>\n      <th>THE</th>\n      <th>TERESINA</th>\n      <th>BSB</th>\n      <th>BRASÍLIA</th>\n      <td>90.226718</td>\n    </tr>\n    <tr>\n      <th>POA</th>\n      <th>PORTO ALEGRE</th>\n      <th>CGH</th>\n      <th>SÃO PAULO</th>\n      <td>90.214726</td>\n    </tr>\n  </tbody>\n</table>\n<p>81 rows × 1 columns</p>\n</div>"
     },
     "metadata": {},
     "execution_count": 14
    }
   ],
   "source": [
    "df_ocupacao_destinos_gol[df_ocupacao_destinos_gol.ocupacao > 90].sort_values(by= 'ocupacao', ascending=False)  # Ordenar e exibir da maior ocupação a menor"
   ]
  },
  {
   "cell_type": "code",
   "execution_count": 15,
   "metadata": {},
   "outputs": [],
   "source": [
    "dfi.export(df_ocupacao_destinos_gol[df_ocupacao_destinos_gol.ocupacao > 90].sort_values(by= 'ocupacao', ascending=False),\"./output/imgs/df_ocupacao_destinos_top_gol.png\") # Gerar a imagem de ocupação para anexar an apresentação\n"
   ]
  },
  {
   "source": [
    "# Entender a correlação entre horários de voos e soma dos indicadores de RPK e ASK"
   ],
   "cell_type": "markdown",
   "metadata": {}
  },
  {
   "cell_type": "code",
   "execution_count": 16,
   "metadata": {},
   "outputs": [
    {
     "output_type": "stream",
     "name": "stderr",
     "text": [
      "C:\\Users\\mayco\\anaconda3\\lib\\site-packages\\IPython\\core\\interactiveshell.py:3146: DtypeWarning: Columns (8,10) have mixed types.Specify dtype option on import or set low_memory=False.\n  has_raised = await self.run_ast_nodes(code_ast.body, cell_name,\n"
     ]
    },
    {
     "output_type": "execute_result",
     "data": {
      "text/plain": [
       "                                                                                   nr_voo\n",
       "nm_empresa                                         sg_icao_origem sg_icao_destino        \n",
       "GOL LINHAS AÉREAS S.A. (EX- VRG LINHAS AÉREAS S... SBRJ           SBSP                168\n",
       "                                                   SBSP           SBRJ                166\n",
       "                                                   SBGR           SBBR                102\n",
       "                                                   SBBR           SBGR                100\n",
       "                                                   SBCF           SBGR                 98\n",
       "...                                                                                   ...\n",
       "                                                   SBPS           SBCF                  1\n",
       "                                                   SBRB           SBEG                  1\n",
       "                                                   SBRF           SBJP                  1\n",
       "                                                   SBSG           SBCF                  1\n",
       "                                                   UAAA           ZSJN                  1\n",
       "\n",
       "[259 rows x 1 columns]"
      ],
      "text/html": "<div>\n<style scoped>\n    .dataframe tbody tr th:only-of-type {\n        vertical-align: middle;\n    }\n\n    .dataframe tbody tr th {\n        vertical-align: top;\n    }\n\n    .dataframe thead th {\n        text-align: right;\n    }\n</style>\n<table border=\"1\" class=\"dataframe\">\n  <thead>\n    <tr style=\"text-align: right;\">\n      <th></th>\n      <th></th>\n      <th></th>\n      <th>nr_voo</th>\n    </tr>\n    <tr>\n      <th>nm_empresa</th>\n      <th>sg_icao_origem</th>\n      <th>sg_icao_destino</th>\n      <th></th>\n    </tr>\n  </thead>\n  <tbody>\n    <tr>\n      <th rowspan=\"11\" valign=\"top\">GOL LINHAS AÉREAS S.A. (EX- VRG LINHAS AÉREAS S.A.)</th>\n      <th>SBRJ</th>\n      <th>SBSP</th>\n      <td>168</td>\n    </tr>\n    <tr>\n      <th>SBSP</th>\n      <th>SBRJ</th>\n      <td>166</td>\n    </tr>\n    <tr>\n      <th>SBGR</th>\n      <th>SBBR</th>\n      <td>102</td>\n    </tr>\n    <tr>\n      <th>SBBR</th>\n      <th>SBGR</th>\n      <td>100</td>\n    </tr>\n    <tr>\n      <th>SBCF</th>\n      <th>SBGR</th>\n      <td>98</td>\n    </tr>\n    <tr>\n      <th>...</th>\n      <th>...</th>\n      <td>...</td>\n    </tr>\n    <tr>\n      <th>SBPS</th>\n      <th>SBCF</th>\n      <td>1</td>\n    </tr>\n    <tr>\n      <th>SBRB</th>\n      <th>SBEG</th>\n      <td>1</td>\n    </tr>\n    <tr>\n      <th>SBRF</th>\n      <th>SBJP</th>\n      <td>1</td>\n    </tr>\n    <tr>\n      <th>SBSG</th>\n      <th>SBCF</th>\n      <td>1</td>\n    </tr>\n    <tr>\n      <th>UAAA</th>\n      <th>ZSJN</th>\n      <td>1</td>\n    </tr>\n  </tbody>\n</table>\n<p>259 rows × 1 columns</p>\n</div>"
     },
     "metadata": {},
     "execution_count": 16
    }
   ],
   "source": [
    "# Buscar quais são os trechos com maiores números de voos da GOL Linhas Aéreas, em seguida ordenar pelo maior valor ao menor valor \n",
    "df_correlacao_horario_voo = pd.read_csv('./input/basica2021-05.txt', error_bad_lines=False, encoding='latin', sep=';')\n",
    "df_correlacao_horario_voo.query('(nm_empresa == \"GOL LINHAS AÉREAS S.A. (EX- VRG LINHAS AÉREAS S.A.)\")').groupby(by= ['nm_empresa', 'sg_icao_origem', 'sg_icao_destino'])[['nr_voo']].count().sort_values(by= 'nr_voo', ascending=False)\n"
   ]
  },
  {
   "cell_type": "code",
   "execution_count": 17,
   "metadata": {},
   "outputs": [
    {
     "output_type": "stream",
     "name": "stderr",
     "text": [
      "C:\\Users\\mayco\\anaconda3\\lib\\site-packages\\IPython\\core\\interactiveshell.py:3146: DtypeWarning: Columns (8,10) have mixed types.Specify dtype option on import or set low_memory=False.\n  has_raised = await self.run_ast_nodes(code_ast.body, cell_name,\n"
     ]
    },
    {
     "output_type": "execute_result",
     "data": {
      "text/plain": [
       "               nr_voo\n",
       "dt_semana            \n",
       "Domingo            16\n",
       "Quarta-feira       14\n",
       "Quinta-feira       15\n",
       "Segunda-feira      18\n",
       "Sexta-feira        14\n",
       "Sábado             11\n",
       "Terça-feira        14"
      ],
      "text/html": "<div>\n<style scoped>\n    .dataframe tbody tr th:only-of-type {\n        vertical-align: middle;\n    }\n\n    .dataframe tbody tr th {\n        vertical-align: top;\n    }\n\n    .dataframe thead th {\n        text-align: right;\n    }\n</style>\n<table border=\"1\" class=\"dataframe\">\n  <thead>\n    <tr style=\"text-align: right;\">\n      <th></th>\n      <th>nr_voo</th>\n    </tr>\n    <tr>\n      <th>dt_semana</th>\n      <th></th>\n    </tr>\n  </thead>\n  <tbody>\n    <tr>\n      <th>Domingo</th>\n      <td>16</td>\n    </tr>\n    <tr>\n      <th>Quarta-feira</th>\n      <td>14</td>\n    </tr>\n    <tr>\n      <th>Quinta-feira</th>\n      <td>15</td>\n    </tr>\n    <tr>\n      <th>Segunda-feira</th>\n      <td>18</td>\n    </tr>\n    <tr>\n      <th>Sexta-feira</th>\n      <td>14</td>\n    </tr>\n    <tr>\n      <th>Sábado</th>\n      <td>11</td>\n    </tr>\n    <tr>\n      <th>Terça-feira</th>\n      <td>14</td>\n    </tr>\n  </tbody>\n</table>\n</div>"
     },
     "metadata": {},
     "execution_count": 17
    }
   ],
   "source": [
    "## Buscar o voo mais realizado pela GOL para analisar se há correlação entre a faixa horária de partida e a quantidade de passageiros\n",
    "\n",
    "df_correlacao_horario_voo = pd.read_csv('./input/basica2021-05.txt', error_bad_lines=False, encoding='latin', sep=';')\n",
    "\n",
    "# Filtrar apenas por voos saindo de Guarulhos e chegando em Brasília \n",
    "df_correlacao_horario_voo = df_correlacao_horario_voo.query('(nm_empresa == \"GOL LINHAS AÉREAS S.A. (EX- VRG LINHAS AÉREAS S.A.)\") & sg_iata_origem == \"GRU\" & sg_iata_destino == \"BSB\"') \n",
    "\n",
    "# Filtrar quais colunas serão usadas para a análise\n",
    "df_correlacao_horario_voo = df_correlacao_horario_voo[['nr_voo', 'sg_iata_origem', 'sg_iata_destino', 'nr_rpk', 'nr_ask', 'dt_partida_real', 'hr_partida_real']]\n",
    "df_correlacao_horario_voo['hr_partida_real'] = df_correlacao_horario_voo['hr_partida_real'].str.slice(start=0, stop=2)\n",
    "\n",
    "# Transformar o campo de string para numérico \n",
    "df_correlacao_horario_voo['hr_partida_real'] = pd.to_numeric(df_correlacao_horario_voo['hr_partida_real'])\n",
    "\n",
    "# Exportar o dia da semana \n",
    "df_correlacao_horario_voo['dt_semana'] = pd.to_datetime(df_correlacao_horario_voo['dt_partida_real']).dt.day_name(locale='pt')\n",
    "\n",
    "# Agrupar a quantidade de voos por dia da semana \n",
    "df_correlacao_horario_voo.groupby(by= 'dt_semana')[['nr_voo']].count()\n",
    "\n",
    "\n"
   ]
  },
  {
   "cell_type": "code",
   "execution_count": 18,
   "metadata": {},
   "outputs": [
    {
     "output_type": "execute_result",
     "data": {
      "text/plain": [
       "   hr_partida_real  nr_voo\n",
       "0                6       2\n",
       "1                8       5\n",
       "2               13       2\n",
       "3               14       3\n",
       "4               17       2\n",
       "5               22       4"
      ],
      "text/html": "<div>\n<style scoped>\n    .dataframe tbody tr th:only-of-type {\n        vertical-align: middle;\n    }\n\n    .dataframe tbody tr th {\n        vertical-align: top;\n    }\n\n    .dataframe thead th {\n        text-align: right;\n    }\n</style>\n<table border=\"1\" class=\"dataframe\">\n  <thead>\n    <tr style=\"text-align: right;\">\n      <th></th>\n      <th>hr_partida_real</th>\n      <th>nr_voo</th>\n    </tr>\n  </thead>\n  <tbody>\n    <tr>\n      <th>0</th>\n      <td>6</td>\n      <td>2</td>\n    </tr>\n    <tr>\n      <th>1</th>\n      <td>8</td>\n      <td>5</td>\n    </tr>\n    <tr>\n      <th>2</th>\n      <td>13</td>\n      <td>2</td>\n    </tr>\n    <tr>\n      <th>3</th>\n      <td>14</td>\n      <td>3</td>\n    </tr>\n    <tr>\n      <th>4</th>\n      <td>17</td>\n      <td>2</td>\n    </tr>\n    <tr>\n      <th>5</th>\n      <td>22</td>\n      <td>4</td>\n    </tr>\n  </tbody>\n</table>\n</div>"
     },
     "metadata": {},
     "execution_count": 18
    }
   ],
   "source": [
    "# Buscar apenas os voos da Segunda-Feira, agrupando pela faixa de horário de partida, a quantidade de números de voos \r\n",
    "\r\n",
    "df_correlacao_horario_voo[['hr_partida_real', 'nr_voo','nr_rpk', 'nr_ask', 'dt_semana']].query('(dt_semana == \"Segunda-feira\")').groupby(by= 'hr_partida_real')[['nr_voo']].count().reset_index()"
   ]
  },
  {
   "cell_type": "code",
   "execution_count": 19,
   "metadata": {},
   "outputs": [
    {
     "output_type": "stream",
     "name": "stderr",
     "text": [
      "C:\\Users\\mayco\\anaconda3\\lib\\site-packages\\IPython\\core\\interactiveshell.py:3146: DtypeWarning: Columns (8,10) have mixed types.Specify dtype option on import or set low_memory=False.\n  has_raised = await self.run_ast_nodes(code_ast.body, cell_name,\n"
     ]
    },
    {
     "output_type": "execute_result",
     "data": {
      "text/plain": [
       "  hr_partida_real  nr_rpk  nr_ask\n",
       "0              06  201780  277020\n",
       "1              08  639540  795150\n",
       "2              13  269325  318060\n",
       "3              14  441180  477090\n",
       "4              17  269325  318060\n",
       "5              22  548910  595935"
      ],
      "text/html": "<div>\n<style scoped>\n    .dataframe tbody tr th:only-of-type {\n        vertical-align: middle;\n    }\n\n    .dataframe tbody tr th {\n        vertical-align: top;\n    }\n\n    .dataframe thead th {\n        text-align: right;\n    }\n</style>\n<table border=\"1\" class=\"dataframe\">\n  <thead>\n    <tr style=\"text-align: right;\">\n      <th></th>\n      <th>hr_partida_real</th>\n      <th>nr_rpk</th>\n      <th>nr_ask</th>\n    </tr>\n  </thead>\n  <tbody>\n    <tr>\n      <th>0</th>\n      <td>06</td>\n      <td>201780</td>\n      <td>277020</td>\n    </tr>\n    <tr>\n      <th>1</th>\n      <td>08</td>\n      <td>639540</td>\n      <td>795150</td>\n    </tr>\n    <tr>\n      <th>2</th>\n      <td>13</td>\n      <td>269325</td>\n      <td>318060</td>\n    </tr>\n    <tr>\n      <th>3</th>\n      <td>14</td>\n      <td>441180</td>\n      <td>477090</td>\n    </tr>\n    <tr>\n      <th>4</th>\n      <td>17</td>\n      <td>269325</td>\n      <td>318060</td>\n    </tr>\n    <tr>\n      <th>5</th>\n      <td>22</td>\n      <td>548910</td>\n      <td>595935</td>\n    </tr>\n  </tbody>\n</table>\n</div>"
     },
     "metadata": {},
     "execution_count": 19
    }
   ],
   "source": [
    "# Agora, ao invés de buscar a quantidade de voos, buscar a soma de RPK e ASK pela faixa de horário de partida no trecho GRU (Guarulhos) para BSB (Brasília)\n",
    "\n",
    "df_correlacao_horario_voo = pd.read_csv('./input/basica2021-05.txt', error_bad_lines=False, encoding='latin', sep=';')\n",
    "df_correlacao_horario_voo = df_correlacao_horario_voo.query('(nm_empresa == \"GOL LINHAS AÉREAS S.A. (EX- VRG LINHAS AÉREAS S.A.)\") & sg_iata_origem == \"GRU\" & sg_iata_destino == \"BSB\"')\n",
    "df_correlacao_horario_voo['dt_semana'] = pd.to_datetime(df_correlacao_horario_voo['dt_partida_real']).dt.day_name(locale='pt')\n",
    "df_correlacao_horario_voo['hr_partida_real'] = df_correlacao_horario_voo['hr_partida_real'].str.slice(start=0, stop=2)\n",
    "\n",
    "# Realizar o agrupamento através do horário de partida e a agregação pela soma da quantidade de RPK e Número de ASK\n",
    "df_correlacao_horario_voo = df_correlacao_horario_voo[['hr_partida_real', 'nr_voo','nr_rpk', 'nr_ask', 'dt_semana']].query('(dt_semana == \"Segunda-feira\")').groupby(by= 'hr_partida_real')[['hr_partida_real', 'nr_rpk', 'nr_ask']].sum().reset_index()\n",
    "\n",
    "df_correlacao_horario_voo\n",
    "# df_correlacao_horario_voo = df_correlacao_horario_voo[['hr_partida_real', 'nr_voo','nr_rpk', 'nr_ask', 'dt_semana']].query('(dt_semana == \"Segunda-feira\")').groupby(by= 'hr_partida_real')[['nr_rpk', 'nr_ask']].sum()"
   ]
  },
  {
   "cell_type": "code",
   "execution_count": 20,
   "metadata": {},
   "outputs": [
    {
     "output_type": "stream",
     "name": "stdout",
     "text": [
      "Teste de normalidade usando Shapiro-Wil para média de RPK:  ShapiroResult(statistic=0.9105069637298584, pvalue=0.4397401213645935)\nTeste de normalidade usando Shapiro-Wil para média de ASK:  ShapiroResult(statistic=0.8827252984046936, pvalue=0.28180739283561707)\n"
     ]
    }
   ],
   "source": [
    "import scipy\n",
    "print(\"Teste de normalidade usando Shapiro-Wil para média de RPK: \", scipy.stats.shapiro(df_correlacao_horario_voo['nr_rpk']))\n",
    "print(\"Teste de normalidade usando Shapiro-Wil para média de ASK: \", scipy.stats.shapiro(df_correlacao_horario_voo['nr_ask']))"
   ]
  },
  {
   "cell_type": "code",
   "execution_count": 21,
   "metadata": {},
   "outputs": [
    {
     "output_type": "execute_result",
     "data": {
      "text/plain": [
       "                 hr_partida_real    nr_rpk    nr_ask\n",
       "hr_partida_real         1.000000  0.318874  0.318874\n",
       "nr_rpk                  0.318874  1.000000  1.000000\n",
       "nr_ask                  0.318874  1.000000  1.000000"
      ],
      "text/html": "<div>\n<style scoped>\n    .dataframe tbody tr th:only-of-type {\n        vertical-align: middle;\n    }\n\n    .dataframe tbody tr th {\n        vertical-align: top;\n    }\n\n    .dataframe thead th {\n        text-align: right;\n    }\n</style>\n<table border=\"1\" class=\"dataframe\">\n  <thead>\n    <tr style=\"text-align: right;\">\n      <th></th>\n      <th>hr_partida_real</th>\n      <th>nr_rpk</th>\n      <th>nr_ask</th>\n    </tr>\n  </thead>\n  <tbody>\n    <tr>\n      <th>hr_partida_real</th>\n      <td>1.000000</td>\n      <td>0.318874</td>\n      <td>0.318874</td>\n    </tr>\n    <tr>\n      <th>nr_rpk</th>\n      <td>0.318874</td>\n      <td>1.000000</td>\n      <td>1.000000</td>\n    </tr>\n    <tr>\n      <th>nr_ask</th>\n      <td>0.318874</td>\n      <td>1.000000</td>\n      <td>1.000000</td>\n    </tr>\n  </tbody>\n</table>\n</div>"
     },
     "metadata": {},
     "execution_count": 21
    }
   ],
   "source": [
    "# Verificar se possuem correlação o horário de partida, o número de RPK e ASK.\n",
    "\n",
    "df_correlacao_horario_voo['hr_partida_real'] = pd.to_numeric(df_correlacao_horario_voo['hr_partida_real'])\n",
    "df_correlacao_horario_voo\n",
    "dfi.export(df_correlacao_horario_voo.corr(),\"./output/imgs/df_correlacao_soma_ocupacao_gru_bsb.png\")\n",
    "df_correlacao_horario_voo.corr(method='spearman')"
   ]
  },
  {
   "cell_type": "code",
   "execution_count": 22,
   "metadata": {},
   "outputs": [
    {
     "output_type": "stream",
     "name": "stderr",
     "text": [
      "C:\\Users\\mayco\\anaconda3\\lib\\site-packages\\IPython\\core\\interactiveshell.py:3146: DtypeWarning: Columns (8,10) have mixed types.Specify dtype option on import or set low_memory=False.\n  has_raised = await self.run_ast_nodes(code_ast.body, cell_name,\n"
     ]
    },
    {
     "output_type": "execute_result",
     "data": {
      "text/plain": [
       "   hr_partida_real    nr_rpk     nr_ask\n",
       "0                6  100890.0  138510.00\n",
       "1                8  127908.0  159030.00\n",
       "2               13  134662.5  159030.00\n",
       "3               14  147060.0  159030.00\n",
       "4               17  134662.5  159030.00\n",
       "5               22  137227.5  148983.75"
      ],
      "text/html": "<div>\n<style scoped>\n    .dataframe tbody tr th:only-of-type {\n        vertical-align: middle;\n    }\n\n    .dataframe tbody tr th {\n        vertical-align: top;\n    }\n\n    .dataframe thead th {\n        text-align: right;\n    }\n</style>\n<table border=\"1\" class=\"dataframe\">\n  <thead>\n    <tr style=\"text-align: right;\">\n      <th></th>\n      <th>hr_partida_real</th>\n      <th>nr_rpk</th>\n      <th>nr_ask</th>\n    </tr>\n  </thead>\n  <tbody>\n    <tr>\n      <th>0</th>\n      <td>6</td>\n      <td>100890.0</td>\n      <td>138510.00</td>\n    </tr>\n    <tr>\n      <th>1</th>\n      <td>8</td>\n      <td>127908.0</td>\n      <td>159030.00</td>\n    </tr>\n    <tr>\n      <th>2</th>\n      <td>13</td>\n      <td>134662.5</td>\n      <td>159030.00</td>\n    </tr>\n    <tr>\n      <th>3</th>\n      <td>14</td>\n      <td>147060.0</td>\n      <td>159030.00</td>\n    </tr>\n    <tr>\n      <th>4</th>\n      <td>17</td>\n      <td>134662.5</td>\n      <td>159030.00</td>\n    </tr>\n    <tr>\n      <th>5</th>\n      <td>22</td>\n      <td>137227.5</td>\n      <td>148983.75</td>\n    </tr>\n  </tbody>\n</table>\n</div>"
     },
     "metadata": {},
     "execution_count": 22
    }
   ],
   "source": [
    "# Agora, ao invés de buscar a quantidade de voos, buscar a soma de RPK e ASK pela faixa de horário de partida no trecho GRU (Guarulhos) para BSB (Brasília)\n",
    "\n",
    "df_correlacao_horario_voo = pd.read_csv('./input/basica2021-05.txt', error_bad_lines=False, encoding='latin', sep=';')\n",
    "df_correlacao_horario_voo = df_correlacao_horario_voo.query('(nm_empresa == \"GOL LINHAS AÉREAS S.A. (EX- VRG LINHAS AÉREAS S.A.)\") & sg_iata_origem == \"GRU\" & sg_iata_destino == \"BSB\"')\n",
    "df_correlacao_horario_voo['dt_semana'] = pd.to_datetime(df_correlacao_horario_voo['dt_partida_real']).dt.day_name(locale='pt')\n",
    "df_correlacao_horario_voo['hr_partida_real'] = df_correlacao_horario_voo['hr_partida_real'].str.slice(start=0, stop=2)\n",
    "\n",
    "# Realizar o agrupamento através do horário de partida e a agregação pela MÉDIA da quantidade de RPK e ASK\n",
    "df_correlacao_horario_voo = df_correlacao_horario_voo[['hr_partida_real', 'nr_voo','nr_rpk', 'nr_ask', 'dt_semana']].query('(dt_semana == \"Segunda-feira\")').groupby(by= 'hr_partida_real')[['hr_partida_real', 'nr_rpk', 'nr_ask']].mean().reset_index()\n",
    "\n",
    "df_correlacao_horario_voo['hr_partida_real'] =  pd.to_numeric(df_correlacao_horario_voo['hr_partida_real'])\n",
    "dfi.export(df_correlacao_horario_voo.corr(method='spearman'),\"./output/imgs/df_correlacao_media_RPKASK_gru_bsb.png\")\n",
    "df_correlacao_horario_voo\n",
    "\n",
    "# df_correlacao_horario_voo = df_correlacao_horario_voo[['hr_partida_real', 'nr_voo','nr_rpk', 'nr_ask', 'dt_semana']].query('(dt_semana == \"Segunda-feira\")').groupby(by= 'hr_partida_real')[['nr_rpk', 'nr_ask']].sum()"
   ]
  },
  {
   "cell_type": "code",
   "execution_count": 23,
   "metadata": {},
   "outputs": [
    {
     "output_type": "stream",
     "name": "stdout",
     "text": [
      "Teste de normalidade usando Shapiro-Wil para média de RPK:  ShapiroResult(statistic=0.8431315422058105, pvalue=0.13835923373699188)\nTeste de normalidade usando Shapiro-Wil para média de ASK:  ShapiroResult(statistic=0.7001284956932068, pvalue=0.006200953386723995)\n"
     ]
    }
   ],
   "source": [
    "import scipy\n",
    "print(\"Teste de normalidade usando Shapiro-Wil para média de RPK: \", scipy.stats.shapiro(df_correlacao_horario_voo['nr_rpk']))\n",
    "print(\"Teste de normalidade usando Shapiro-Wil para média de ASK: \", scipy.stats.shapiro(df_correlacao_horario_voo['nr_ask']))"
   ]
  },
  {
   "cell_type": "code",
   "execution_count": 24,
   "metadata": {},
   "outputs": [
    {
     "output_type": "execute_result",
     "data": {
      "text/plain": [
       "                 hr_partida_real    nr_rpk    nr_ask\n",
       "hr_partida_real         1.000000  0.782691  0.169031\n",
       "nr_rpk                  0.782691  1.000000  0.342997\n",
       "nr_ask                  0.169031  0.342997  1.000000"
      ],
      "text/html": "<div>\n<style scoped>\n    .dataframe tbody tr th:only-of-type {\n        vertical-align: middle;\n    }\n\n    .dataframe tbody tr th {\n        vertical-align: top;\n    }\n\n    .dataframe thead th {\n        text-align: right;\n    }\n</style>\n<table border=\"1\" class=\"dataframe\">\n  <thead>\n    <tr style=\"text-align: right;\">\n      <th></th>\n      <th>hr_partida_real</th>\n      <th>nr_rpk</th>\n      <th>nr_ask</th>\n    </tr>\n  </thead>\n  <tbody>\n    <tr>\n      <th>hr_partida_real</th>\n      <td>1.000000</td>\n      <td>0.782691</td>\n      <td>0.169031</td>\n    </tr>\n    <tr>\n      <th>nr_rpk</th>\n      <td>0.782691</td>\n      <td>1.000000</td>\n      <td>0.342997</td>\n    </tr>\n    <tr>\n      <th>nr_ask</th>\n      <td>0.169031</td>\n      <td>0.342997</td>\n      <td>1.000000</td>\n    </tr>\n  </tbody>\n</table>\n</div>"
     },
     "metadata": {},
     "execution_count": 24
    }
   ],
   "source": [
    "df_correlacao_horario_voo.corr(method='spearman')"
   ]
  },
  {
   "cell_type": "code",
   "execution_count": null,
   "metadata": {},
   "outputs": [],
   "source": []
  }
 ]
}